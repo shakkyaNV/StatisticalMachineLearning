{
 "cells": [
  {
   "cell_type": "markdown",
   "metadata": {
    "id": "PzybQo2G2gE3"
   },
   "source": [
    "# **Recommendation System**"
   ]
  },
  {
   "cell_type": "markdown",
   "metadata": {
    "id": "uNpIaFd12k39"
   },
   "source": [
    "Done by:\n",
    "\n",
    "1. 18PD05 - Bharathi A\n",
    "2. 18PD33 - Shreenidhi N"
   ]
  },
  {
   "cell_type": "code",
   "execution_count": 1,
   "metadata": {
    "id": "hDzBN7D2Kj5s",
    "tags": []
   },
   "outputs": [],
   "source": [
    "import os\n",
    "# os.chdir('/content/drive/MyDrive/RL/Package3/Bandits/bandits/single')"
   ]
  },
  {
   "cell_type": "code",
   "execution_count": 2,
   "metadata": {
    "id": "e-TNOAd3KjRM",
    "tags": []
   },
   "outputs": [],
   "source": [
    "import pandas as pd\n",
    "import numpy as np\n",
    "import matplotlib.pyplot as plt\n",
    "import seaborn as sns\n",
    "\n",
    "sns.set_theme()"
   ]
  },
  {
   "cell_type": "code",
   "execution_count": 3,
   "metadata": {
    "colab": {
     "base_uri": "https://localhost:8080/"
    },
    "id": "pIOrFZxrK2WY",
    "outputId": "68c7b49e-a1b5-4ab3-b343-bc79cf7c88d3",
    "tags": []
   },
   "outputs": [],
   "source": [
    "# from google.colab import drive\n",
    "# drive.mount('/content/drive')"
   ]
  },
  {
   "cell_type": "markdown",
   "metadata": {
    "id": "6WCGyAcBKjRP"
   },
   "source": [
    "## Preprocessing Movielens data"
   ]
  },
  {
   "cell_type": "code",
   "execution_count": 4,
   "metadata": {
    "colab": {
     "base_uri": "https://localhost:8080/"
    },
    "id": "3pmmCn03KjRQ",
    "outputId": "573db68f-f785-4ae2-a9fd-105d6df9b19e",
    "tags": []
   },
   "outputs": [
    {
     "name": "stdout",
     "output_type": "stream",
     "text": [
      "reading movielens 1m data\n"
     ]
    },
    {
     "name": "stderr",
     "output_type": "stream",
     "text": [
      "/home/sranasin/conda/envs/DeepRL/lib/python3.7/site-packages/pandas/util/_decorators.py:311: ParserWarning: Falling back to the 'python' engine because the 'c' engine does not support regex separators (separators > 1 char and different from '\\s+' are interpreted as regex); you can avoid this warning by specifying engine='python'.\n",
      "  return func(*args, **kwargs)\n"
     ]
    },
    {
     "name": "stdout",
     "output_type": "stream",
     "text": [
      "   MovieID                               Title                        Genres  \\\n",
      "0        1                    Toy Story (1995)   Animation|Children's|Comedy   \n",
      "1        2                      Jumanji (1995)  Adventure|Children's|Fantasy   \n",
      "2        3             Grumpier Old Men (1995)                Comedy|Romance   \n",
      "3        4            Waiting to Exhale (1995)                  Comedy|Drama   \n",
      "4        5  Father of the Bride Part II (1995)                        Comedy   \n",
      "\n",
      "   Action  Adventure  Animation  Children's  Comedy  Crime  Documentary  ...  \\\n",
      "0   False      False       True        True    True  False        False  ...   \n",
      "1   False       True      False        True   False  False        False  ...   \n",
      "2   False      False      False       False    True  False        False  ...   \n",
      "3   False      False      False       False    True  False        False  ...   \n",
      "4   False      False      False       False    True  False        False  ...   \n",
      "\n",
      "   Fantasy  Film-Noir  Horror  Musical  Mystery  Romance  Sci-Fi  Thriller  \\\n",
      "0    False      False   False    False    False    False   False     False   \n",
      "1     True      False   False    False    False    False   False     False   \n",
      "2    False      False   False    False    False     True   False     False   \n",
      "3    False      False   False    False    False    False   False     False   \n",
      "4    False      False   False    False    False    False   False     False   \n",
      "\n",
      "     War  Western  \n",
      "0  False    False  \n",
      "1  False    False  \n",
      "2  False    False  \n",
      "3  False    False  \n",
      "4  False    False  \n",
      "\n",
      "[5 rows x 21 columns]\n"
     ]
    }
   ],
   "source": [
    "print('reading movielens 1m data')\n",
    "ratings = pd.read_csv('../Data/ml-1m/ratings.dat', sep='::', names=['UserID','MovieID','Rating','Timestamp'], encoding = \"ISO-8859-1\")\n",
    "movies = pd.read_csv('../Data/ml-1m/movies.dat', sep='::', names=['MovieID','Title','Genres'], encoding = \"ISO-8859-1\")\n",
    "users = pd.read_csv('../Data/ml-1m/users.dat', sep='::', names=['UserID','Gender','Age','Occupation', 'Zip'], encoding = \"ISO-8859-1\")\n",
    "#ratings = pd.read_csv('../data/ml-1m/ratings.dat', sep=':', usecols=range(0,5,2), names=['UserID','MovieID','Rating'], encoding = \"ISO-8859-1\")\n",
    "#movies = pd.read_csv('../data/ml-1m/movies.dat', sep=':', usecols=range(0,5,2), names=['MovieID','Title','Genres'], encoding = \"ISO-8859-1\")\n",
    "#users = pd.read_csv('../data/ml-1m/users.dat', sep=':', usecols=range(0,7,2), names=['UserID','Gender','Age','Occupation'], encoding = \"ISO-8859-1\")\n",
    "\n",
    "#One hot encoding the genres\n",
    "movies = movies.join(movies['Genres'].str.get_dummies().astype(bool))\n",
    "print(movies.head())\n",
    "movies.drop('Genres', inplace=True, axis=1)\n",
    "ratings['Liked'] = ratings['Rating'].apply(lambda x: 1 if x == 5 else 0)"
   ]
  },
  {
   "cell_type": "code",
   "execution_count": 5,
   "metadata": {
    "colab": {
     "base_uri": "https://localhost:8080/"
    },
    "id": "9regs7E7KjRR",
    "outputId": "553e03e5-429e-4142-fce9-c0c435da1ead",
    "tags": []
   },
   "outputs": [
    {
     "name": "stdout",
     "output_type": "stream",
     "text": [
      "Int64Index([2858, 260, 1196, 1210, 480, 2028, 589, 2571, 1270, 593], dtype='int64')\n"
     ]
    }
   ],
   "source": [
    "top10ids = ratings['MovieID'].value_counts().head(10)\n",
    "most_rated = movies.loc[movies['MovieID'].isin(top10ids.index)]\n",
    "print(top10ids.index)"
   ]
  },
  {
   "cell_type": "code",
   "execution_count": 6,
   "metadata": {
    "colab": {
     "base_uri": "https://localhost:8080/",
     "height": 424
    },
    "id": "qAuySegRKjRS",
    "outputId": "7135954e-13f8-49dd-b2f3-471323688fa8",
    "tags": []
   },
   "outputs": [
    {
     "data": {
      "text/html": [
       "<div>\n",
       "<style scoped>\n",
       "    .dataframe tbody tr th:only-of-type {\n",
       "        vertical-align: middle;\n",
       "    }\n",
       "\n",
       "    .dataframe tbody tr th {\n",
       "        vertical-align: top;\n",
       "    }\n",
       "\n",
       "    .dataframe thead th {\n",
       "        text-align: right;\n",
       "    }\n",
       "</style>\n",
       "<table border=\"1\" class=\"dataframe\">\n",
       "  <thead>\n",
       "    <tr style=\"text-align: right;\">\n",
       "      <th></th>\n",
       "      <th>UserID</th>\n",
       "      <th>MovieID</th>\n",
       "      <th>Rating</th>\n",
       "      <th>Timestamp</th>\n",
       "      <th>Liked</th>\n",
       "    </tr>\n",
       "  </thead>\n",
       "  <tbody>\n",
       "    <tr>\n",
       "      <th>22</th>\n",
       "      <td>1</td>\n",
       "      <td>1270</td>\n",
       "      <td>5</td>\n",
       "      <td>978300055</td>\n",
       "      <td>1</td>\n",
       "    </tr>\n",
       "    <tr>\n",
       "      <th>44</th>\n",
       "      <td>1</td>\n",
       "      <td>260</td>\n",
       "      <td>4</td>\n",
       "      <td>978300760</td>\n",
       "      <td>0</td>\n",
       "    </tr>\n",
       "    <tr>\n",
       "      <th>48</th>\n",
       "      <td>1</td>\n",
       "      <td>2028</td>\n",
       "      <td>5</td>\n",
       "      <td>978301619</td>\n",
       "      <td>1</td>\n",
       "    </tr>\n",
       "    <tr>\n",
       "      <th>64</th>\n",
       "      <td>2</td>\n",
       "      <td>1210</td>\n",
       "      <td>4</td>\n",
       "      <td>978298151</td>\n",
       "      <td>0</td>\n",
       "    </tr>\n",
       "    <tr>\n",
       "      <th>98</th>\n",
       "      <td>2</td>\n",
       "      <td>589</td>\n",
       "      <td>4</td>\n",
       "      <td>978299773</td>\n",
       "      <td>0</td>\n",
       "    </tr>\n",
       "    <tr>\n",
       "      <th>...</th>\n",
       "      <td>...</td>\n",
       "      <td>...</td>\n",
       "      <td>...</td>\n",
       "      <td>...</td>\n",
       "      <td>...</td>\n",
       "    </tr>\n",
       "    <tr>\n",
       "      <th>999959</th>\n",
       "      <td>6040</td>\n",
       "      <td>1196</td>\n",
       "      <td>3</td>\n",
       "      <td>956715455</td>\n",
       "      <td>0</td>\n",
       "    </tr>\n",
       "    <tr>\n",
       "      <th>999982</th>\n",
       "      <td>6040</td>\n",
       "      <td>2571</td>\n",
       "      <td>4</td>\n",
       "      <td>997454126</td>\n",
       "      <td>0</td>\n",
       "    </tr>\n",
       "    <tr>\n",
       "      <th>1000033</th>\n",
       "      <td>6040</td>\n",
       "      <td>1210</td>\n",
       "      <td>2</td>\n",
       "      <td>956715805</td>\n",
       "      <td>0</td>\n",
       "    </tr>\n",
       "    <tr>\n",
       "      <th>1000074</th>\n",
       "      <td>6040</td>\n",
       "      <td>1270</td>\n",
       "      <td>3</td>\n",
       "      <td>997453960</td>\n",
       "      <td>0</td>\n",
       "    </tr>\n",
       "    <tr>\n",
       "      <th>1000200</th>\n",
       "      <td>6040</td>\n",
       "      <td>2028</td>\n",
       "      <td>5</td>\n",
       "      <td>956704519</td>\n",
       "      <td>1</td>\n",
       "    </tr>\n",
       "  </tbody>\n",
       "</table>\n",
       "<p>28017 rows × 5 columns</p>\n",
       "</div>"
      ],
      "text/plain": [
       "         UserID  MovieID  Rating  Timestamp  Liked\n",
       "22            1     1270       5  978300055      1\n",
       "44            1      260       4  978300760      0\n",
       "48            1     2028       5  978301619      1\n",
       "64            2     1210       4  978298151      0\n",
       "98            2      589       4  978299773      0\n",
       "...         ...      ...     ...        ...    ...\n",
       "999959     6040     1196       3  956715455      0\n",
       "999982     6040     2571       4  997454126      0\n",
       "1000033    6040     1210       2  956715805      0\n",
       "1000074    6040     1270       3  997453960      0\n",
       "1000200    6040     2028       5  956704519      1\n",
       "\n",
       "[28017 rows x 5 columns]"
      ]
     },
     "execution_count": 6,
     "metadata": {},
     "output_type": "execute_result"
    }
   ],
   "source": [
    "ratings_top10 = ratings.loc[ratings['MovieID'].isin(top10ids.index)]\n",
    "ratings_top10"
   ]
  },
  {
   "cell_type": "code",
   "execution_count": 7,
   "metadata": {
    "colab": {
     "base_uri": "https://localhost:8080/",
     "height": 424
    },
    "id": "bt2nC45HKjRS",
    "outputId": "863f1e55-b914-4b52-f27f-249dffc2f400",
    "tags": []
   },
   "outputs": [
    {
     "data": {
      "text/html": [
       "<div>\n",
       "<style scoped>\n",
       "    .dataframe tbody tr th:only-of-type {\n",
       "        vertical-align: middle;\n",
       "    }\n",
       "\n",
       "    .dataframe tbody tr th {\n",
       "        vertical-align: top;\n",
       "    }\n",
       "\n",
       "    .dataframe thead th {\n",
       "        text-align: right;\n",
       "    }\n",
       "</style>\n",
       "<table border=\"1\" class=\"dataframe\">\n",
       "  <thead>\n",
       "    <tr style=\"text-align: right;\">\n",
       "      <th></th>\n",
       "      <th>UserID</th>\n",
       "      <th>Gender</th>\n",
       "      <th>Age</th>\n",
       "      <th>Occupation</th>\n",
       "      <th>Zip</th>\n",
       "    </tr>\n",
       "  </thead>\n",
       "  <tbody>\n",
       "    <tr>\n",
       "      <th>0</th>\n",
       "      <td>1</td>\n",
       "      <td>F</td>\n",
       "      <td>1</td>\n",
       "      <td>10</td>\n",
       "      <td>48067</td>\n",
       "    </tr>\n",
       "    <tr>\n",
       "      <th>1</th>\n",
       "      <td>2</td>\n",
       "      <td>M</td>\n",
       "      <td>56</td>\n",
       "      <td>16</td>\n",
       "      <td>70072</td>\n",
       "    </tr>\n",
       "    <tr>\n",
       "      <th>2</th>\n",
       "      <td>3</td>\n",
       "      <td>M</td>\n",
       "      <td>25</td>\n",
       "      <td>15</td>\n",
       "      <td>55117</td>\n",
       "    </tr>\n",
       "    <tr>\n",
       "      <th>3</th>\n",
       "      <td>4</td>\n",
       "      <td>M</td>\n",
       "      <td>45</td>\n",
       "      <td>7</td>\n",
       "      <td>02460</td>\n",
       "    </tr>\n",
       "    <tr>\n",
       "      <th>4</th>\n",
       "      <td>5</td>\n",
       "      <td>M</td>\n",
       "      <td>25</td>\n",
       "      <td>20</td>\n",
       "      <td>55455</td>\n",
       "    </tr>\n",
       "    <tr>\n",
       "      <th>...</th>\n",
       "      <td>...</td>\n",
       "      <td>...</td>\n",
       "      <td>...</td>\n",
       "      <td>...</td>\n",
       "      <td>...</td>\n",
       "    </tr>\n",
       "    <tr>\n",
       "      <th>6035</th>\n",
       "      <td>6036</td>\n",
       "      <td>F</td>\n",
       "      <td>25</td>\n",
       "      <td>15</td>\n",
       "      <td>32603</td>\n",
       "    </tr>\n",
       "    <tr>\n",
       "      <th>6036</th>\n",
       "      <td>6037</td>\n",
       "      <td>F</td>\n",
       "      <td>45</td>\n",
       "      <td>1</td>\n",
       "      <td>76006</td>\n",
       "    </tr>\n",
       "    <tr>\n",
       "      <th>6037</th>\n",
       "      <td>6038</td>\n",
       "      <td>F</td>\n",
       "      <td>56</td>\n",
       "      <td>1</td>\n",
       "      <td>14706</td>\n",
       "    </tr>\n",
       "    <tr>\n",
       "      <th>6038</th>\n",
       "      <td>6039</td>\n",
       "      <td>F</td>\n",
       "      <td>45</td>\n",
       "      <td>0</td>\n",
       "      <td>01060</td>\n",
       "    </tr>\n",
       "    <tr>\n",
       "      <th>6039</th>\n",
       "      <td>6040</td>\n",
       "      <td>M</td>\n",
       "      <td>25</td>\n",
       "      <td>6</td>\n",
       "      <td>11106</td>\n",
       "    </tr>\n",
       "  </tbody>\n",
       "</table>\n",
       "<p>5655 rows × 5 columns</p>\n",
       "</div>"
      ],
      "text/plain": [
       "      UserID Gender  Age  Occupation    Zip\n",
       "0          1      F    1          10  48067\n",
       "1          2      M   56          16  70072\n",
       "2          3      M   25          15  55117\n",
       "3          4      M   45           7  02460\n",
       "4          5      M   25          20  55455\n",
       "...      ...    ...  ...         ...    ...\n",
       "6035    6036      F   25          15  32603\n",
       "6036    6037      F   45           1  76006\n",
       "6037    6038      F   56           1  14706\n",
       "6038    6039      F   45           0  01060\n",
       "6039    6040      M   25           6  11106\n",
       "\n",
       "[5655 rows x 5 columns]"
      ]
     },
     "execution_count": 7,
     "metadata": {},
     "output_type": "execute_result"
    }
   ],
   "source": [
    "users_top10 = users.loc[users['UserID'].isin(ratings_top10['UserID'])]\n",
    "users_top10"
   ]
  },
  {
   "cell_type": "code",
   "execution_count": 8,
   "metadata": {
    "colab": {
     "base_uri": "https://localhost:8080/",
     "height": 424
    },
    "id": "p-sMwnnHKjRS",
    "outputId": "56c4e4c5-0608-4aad-8048-cdea33dfe0ba",
    "tags": []
   },
   "outputs": [
    {
     "data": {
      "text/html": [
       "<div>\n",
       "<style scoped>\n",
       "    .dataframe tbody tr th:only-of-type {\n",
       "        vertical-align: middle;\n",
       "    }\n",
       "\n",
       "    .dataframe tbody tr th {\n",
       "        vertical-align: top;\n",
       "    }\n",
       "\n",
       "    .dataframe thead th {\n",
       "        text-align: right;\n",
       "    }\n",
       "</style>\n",
       "<table border=\"1\" class=\"dataframe\">\n",
       "  <thead>\n",
       "    <tr style=\"text-align: right;\">\n",
       "      <th></th>\n",
       "      <th>UserID</th>\n",
       "      <th>MovieID</th>\n",
       "      <th>Rating</th>\n",
       "      <th>Timestamp</th>\n",
       "      <th>Liked</th>\n",
       "      <th>Gender</th>\n",
       "      <th>Age</th>\n",
       "      <th>Occupation</th>\n",
       "      <th>Zip</th>\n",
       "    </tr>\n",
       "  </thead>\n",
       "  <tbody>\n",
       "    <tr>\n",
       "      <th>0</th>\n",
       "      <td>5726</td>\n",
       "      <td>2571</td>\n",
       "      <td>1</td>\n",
       "      <td>958495118</td>\n",
       "      <td>0</td>\n",
       "      <td>M</td>\n",
       "      <td>25</td>\n",
       "      <td>1</td>\n",
       "      <td>77845</td>\n",
       "    </tr>\n",
       "    <tr>\n",
       "      <th>1</th>\n",
       "      <td>4447</td>\n",
       "      <td>1270</td>\n",
       "      <td>3</td>\n",
       "      <td>965087970</td>\n",
       "      <td>0</td>\n",
       "      <td>M</td>\n",
       "      <td>45</td>\n",
       "      <td>5</td>\n",
       "      <td>32953</td>\n",
       "    </tr>\n",
       "    <tr>\n",
       "      <th>2</th>\n",
       "      <td>3509</td>\n",
       "      <td>1196</td>\n",
       "      <td>5</td>\n",
       "      <td>966974612</td>\n",
       "      <td>1</td>\n",
       "      <td>M</td>\n",
       "      <td>18</td>\n",
       "      <td>4</td>\n",
       "      <td>02115</td>\n",
       "    </tr>\n",
       "    <tr>\n",
       "      <th>3</th>\n",
       "      <td>2857</td>\n",
       "      <td>260</td>\n",
       "      <td>4</td>\n",
       "      <td>972506196</td>\n",
       "      <td>0</td>\n",
       "      <td>M</td>\n",
       "      <td>25</td>\n",
       "      <td>0</td>\n",
       "      <td>10469</td>\n",
       "    </tr>\n",
       "    <tr>\n",
       "      <th>4</th>\n",
       "      <td>1714</td>\n",
       "      <td>2571</td>\n",
       "      <td>5</td>\n",
       "      <td>974706391</td>\n",
       "      <td>1</td>\n",
       "      <td>M</td>\n",
       "      <td>25</td>\n",
       "      <td>17</td>\n",
       "      <td>43212</td>\n",
       "    </tr>\n",
       "    <tr>\n",
       "      <th>...</th>\n",
       "      <td>...</td>\n",
       "      <td>...</td>\n",
       "      <td>...</td>\n",
       "      <td>...</td>\n",
       "      <td>...</td>\n",
       "      <td>...</td>\n",
       "      <td>...</td>\n",
       "      <td>...</td>\n",
       "      <td>...</td>\n",
       "    </tr>\n",
       "    <tr>\n",
       "      <th>28012</th>\n",
       "      <td>657</td>\n",
       "      <td>2858</td>\n",
       "      <td>4</td>\n",
       "      <td>975693291</td>\n",
       "      <td>0</td>\n",
       "      <td>F</td>\n",
       "      <td>50</td>\n",
       "      <td>13</td>\n",
       "      <td>34691</td>\n",
       "    </tr>\n",
       "    <tr>\n",
       "      <th>28013</th>\n",
       "      <td>5679</td>\n",
       "      <td>480</td>\n",
       "      <td>5</td>\n",
       "      <td>958617765</td>\n",
       "      <td>1</td>\n",
       "      <td>M</td>\n",
       "      <td>35</td>\n",
       "      <td>2</td>\n",
       "      <td>33020</td>\n",
       "    </tr>\n",
       "    <tr>\n",
       "      <th>28014</th>\n",
       "      <td>4384</td>\n",
       "      <td>2028</td>\n",
       "      <td>5</td>\n",
       "      <td>965172074</td>\n",
       "      <td>1</td>\n",
       "      <td>M</td>\n",
       "      <td>25</td>\n",
       "      <td>0</td>\n",
       "      <td>43623</td>\n",
       "    </tr>\n",
       "    <tr>\n",
       "      <th>28015</th>\n",
       "      <td>3978</td>\n",
       "      <td>2028</td>\n",
       "      <td>5</td>\n",
       "      <td>965632133</td>\n",
       "      <td>1</td>\n",
       "      <td>M</td>\n",
       "      <td>35</td>\n",
       "      <td>13</td>\n",
       "      <td>78252</td>\n",
       "    </tr>\n",
       "    <tr>\n",
       "      <th>28016</th>\n",
       "      <td>631</td>\n",
       "      <td>260</td>\n",
       "      <td>5</td>\n",
       "      <td>975779646</td>\n",
       "      <td>1</td>\n",
       "      <td>M</td>\n",
       "      <td>35</td>\n",
       "      <td>17</td>\n",
       "      <td>28601</td>\n",
       "    </tr>\n",
       "  </tbody>\n",
       "</table>\n",
       "<p>28017 rows × 9 columns</p>\n",
       "</div>"
      ],
      "text/plain": [
       "       UserID  MovieID  Rating  Timestamp  Liked Gender  Age  Occupation  \\\n",
       "0        5726     2571       1  958495118      0      M   25           1   \n",
       "1        4447     1270       3  965087970      0      M   45           5   \n",
       "2        3509     1196       5  966974612      1      M   18           4   \n",
       "3        2857      260       4  972506196      0      M   25           0   \n",
       "4        1714     2571       5  974706391      1      M   25          17   \n",
       "...       ...      ...     ...        ...    ...    ...  ...         ...   \n",
       "28012     657     2858       4  975693291      0      F   50          13   \n",
       "28013    5679      480       5  958617765      1      M   35           2   \n",
       "28014    4384     2028       5  965172074      1      M   25           0   \n",
       "28015    3978     2028       5  965632133      1      M   35          13   \n",
       "28016     631      260       5  975779646      1      M   35          17   \n",
       "\n",
       "         Zip  \n",
       "0      77845  \n",
       "1      32953  \n",
       "2      02115  \n",
       "3      10469  \n",
       "4      43212  \n",
       "...      ...  \n",
       "28012  34691  \n",
       "28013  33020  \n",
       "28014  43623  \n",
       "28015  78252  \n",
       "28016  28601  \n",
       "\n",
       "[28017 rows x 9 columns]"
      ]
     },
     "execution_count": 8,
     "metadata": {},
     "output_type": "execute_result"
    }
   ],
   "source": [
    "data = pd.merge(ratings_top10, users_top10, on='UserID').sample(frac=1,random_state=5).reset_index(drop=True)\n",
    "data"
   ]
  },
  {
   "cell_type": "code",
   "execution_count": 9,
   "metadata": {
    "colab": {
     "base_uri": "https://localhost:8080/"
    },
    "id": "Izma7cm-dINj",
    "outputId": "0271fe17-cac8-4da3-dd08-48b8fcfcb233",
    "tags": []
   },
   "outputs": [
    {
     "data": {
      "text/plain": [
       "array([0, 1])"
      ]
     },
     "execution_count": 9,
     "metadata": {},
     "output_type": "execute_result"
    }
   ],
   "source": [
    "data['Liked'].unique()"
   ]
  },
  {
   "cell_type": "markdown",
   "metadata": {
    "id": "kP4q7lo0KjRT"
   },
   "source": [
    "Bandit implementations require knowledge of time horizon, number of arms (movies) k, and the reward function for taking action A at time step t. This can influence the performance of the algorithms as the value updates depend on the time horizon. THe time horizon can vary between 0 and the length of dataset, however the expected time horizon is length of dataset / k."
   ]
  },
  {
   "cell_type": "code",
   "execution_count": 10,
   "metadata": {
    "colab": {
     "base_uri": "https://localhost:8080/"
    },
    "id": "PjUpeHVnKjRU",
    "outputId": "b1779340-da44-42f3-e70a-f3fa0b2a524e",
    "tags": []
   },
   "outputs": [
    {
     "name": "stdout",
     "output_type": "stream",
     "text": [
      "[[0. 0. 0. 0. 1. 0. 0. 0. 0. 0.]\n",
      " [0. 0. 1. 0. 0. 0. 0. 0. 0. 0.]\n",
      " [0. 0. 0. 0. 0. 0. 0. 1. 0. 0.]\n",
      " [0. 0. 0. 0. 0. 0. 0. 0. 0. 1.]\n",
      " [0. 0. 0. 0. 0. 0. 0. 0. 0. 1.]\n",
      " [0. 1. 0. 0. 0. 0. 0. 0. 0. 0.]\n",
      " [0. 1. 0. 0. 0. 0. 0. 0. 0. 0.]\n",
      " [1. 0. 0. 0. 0. 0. 0. 0. 0. 0.]\n",
      " [0. 0. 0. 1. 0. 0. 0. 0. 0. 0.]\n",
      " [0. 0. 0. 0. 0. 1. 0. 0. 0. 0.]\n",
      " [0. 0. 0. 0. 0. 0. 0. 0. 1. 0.]\n",
      " [0. 0. 0. 0. 0. 1. 0. 0. 0. 0.]\n",
      " [0. 1. 0. 0. 0. 0. 0. 0. 0. 0.]\n",
      " [0. 0. 0. 1. 0. 0. 0. 0. 0. 0.]\n",
      " [0. 0. 0. 1. 0. 0. 0. 0. 0. 0.]\n",
      " [1. 0. 0. 0. 0. 0. 0. 0. 0. 0.]\n",
      " [0. 0. 0. 0. 0. 0. 0. 0. 1. 0.]\n",
      " [0. 0. 1. 0. 0. 0. 0. 0. 0. 0.]\n",
      " [0. 0. 0. 0. 0. 0. 0. 0. 1. 0.]\n",
      " [0. 0. 0. 0. 0. 0. 1. 0. 0. 0.]\n",
      " [0. 0. 1. 0. 0. 0. 0. 0. 0. 0.]\n",
      " [0. 0. 0. 0. 0. 0. 1. 0. 0. 0.]\n",
      " [1. 0. 0. 0. 0. 0. 0. 0. 0. 0.]\n",
      " [0. 0. 0. 0. 0. 0. 0. 0. 0. 1.]\n",
      " [0. 0. 0. 1. 0. 0. 0. 0. 0. 0.]\n",
      " [0. 1. 0. 0. 0. 0. 0. 0. 0. 0.]\n",
      " [0. 0. 0. 0. 0. 0. 1. 0. 0. 0.]\n",
      " [1. 0. 0. 0. 0. 0. 0. 0. 0. 0.]\n",
      " [1. 0. 0. 0. 0. 0. 0. 0. 0. 0.]\n",
      " [0. 0. 0. 0. 1. 0. 0. 0. 0. 0.]\n",
      " [0. 1. 0. 0. 0. 0. 0. 0. 0. 0.]\n",
      " [0. 0. 0. 0. 0. 1. 0. 0. 0. 0.]\n",
      " [1. 0. 0. 0. 0. 0. 0. 0. 0. 0.]\n",
      " [0. 0. 0. 0. 0. 0. 0. 0. 1. 0.]\n",
      " [0. 0. 0. 0. 0. 1. 0. 0. 0. 0.]\n",
      " [0. 0. 0. 0. 0. 0. 1. 0. 0. 0.]\n",
      " [0. 0. 0. 0. 1. 0. 0. 0. 0. 0.]\n",
      " [0. 0. 0. 0. 0. 0. 0. 0. 0. 1.]\n",
      " [0. 0. 0. 0. 0. 0. 1. 0. 0. 0.]\n",
      " [0. 0. 0. 0. 0. 1. 0. 0. 0. 0.]\n",
      " [0. 0. 0. 0. 1. 0. 0. 0. 0. 0.]\n",
      " [0. 0. 1. 0. 0. 0. 0. 0. 0. 0.]\n",
      " [0. 0. 0. 0. 0. 0. 0. 0. 1. 0.]\n",
      " [0. 0. 0. 0. 0. 0. 1. 0. 0. 0.]\n",
      " [0. 0. 1. 0. 0. 0. 0. 0. 0. 0.]\n",
      " [0. 0. 0. 0. 0. 1. 0. 0. 0. 0.]\n",
      " [0. 0. 0. 0. 0. 0. 0. 1. 0. 0.]\n",
      " [0. 0. 0. 0. 0. 1. 0. 0. 0. 0.]\n",
      " [0. 0. 0. 0. 0. 0. 0. 0. 1. 0.]\n",
      " [0. 0. 1. 0. 0. 0. 0. 0. 0. 0.]\n",
      " [0. 0. 0. 0. 0. 0. 0. 1. 0. 0.]\n",
      " [0. 0. 0. 1. 0. 0. 0. 0. 0. 0.]\n",
      " [0. 0. 0. 0. 1. 0. 0. 0. 0. 0.]\n",
      " [0. 0. 0. 0. 0. 0. 0. 1. 0. 0.]\n",
      " [0. 0. 0. 0. 0. 0. 0. 1. 0. 0.]\n",
      " [0. 0. 0. 0. 1. 0. 0. 0. 0. 0.]\n",
      " [0. 0. 0. 0. 0. 1. 0. 0. 0. 0.]\n",
      " [0. 0. 0. 0. 0. 1. 0. 0. 0. 0.]\n",
      " [0. 0. 0. 0. 0. 0. 0. 1. 0. 0.]\n",
      " [0. 0. 0. 0. 0. 0. 0. 1. 0. 0.]\n",
      " [0. 0. 0. 0. 1. 0. 0. 0. 0. 0.]\n",
      " [0. 0. 1. 0. 0. 0. 0. 0. 0. 0.]\n",
      " [0. 0. 1. 0. 0. 0. 0. 0. 0. 0.]\n",
      " [0. 0. 0. 1. 0. 0. 0. 0. 0. 0.]\n",
      " [0. 0. 0. 1. 0. 0. 0. 0. 0. 0.]\n",
      " [0. 0. 0. 0. 0. 0. 1. 0. 0. 0.]\n",
      " [0. 0. 0. 0. 0. 0. 0. 0. 0. 1.]\n",
      " [0. 1. 0. 0. 0. 0. 0. 0. 0. 0.]\n",
      " [0. 0. 1. 0. 0. 0. 0. 0. 0. 0.]\n",
      " [0. 0. 0. 0. 0. 0. 0. 0. 1. 0.]\n",
      " [0. 0. 1. 0. 0. 0. 0. 0. 0. 0.]\n",
      " [0. 0. 0. 0. 1. 0. 0. 0. 0. 0.]\n",
      " [0. 0. 0. 0. 0. 0. 0. 1. 0. 0.]\n",
      " [1. 0. 0. 0. 0. 0. 0. 0. 0. 0.]\n",
      " [0. 0. 0. 0. 0. 0. 0. 0. 0. 1.]\n",
      " [0. 0. 0. 0. 1. 0. 0. 0. 0. 0.]\n",
      " [0. 0. 0. 0. 0. 1. 0. 0. 0. 0.]\n",
      " [0. 0. 0. 1. 0. 0. 0. 0. 0. 0.]\n",
      " [1. 0. 0. 0. 0. 0. 0. 0. 0. 0.]\n",
      " [0. 0. 0. 0. 0. 0. 0. 0. 1. 0.]\n",
      " [1. 0. 0. 0. 0. 0. 0. 0. 0. 0.]\n",
      " [0. 0. 0. 0. 0. 0. 0. 0. 0. 1.]\n",
      " [0. 0. 0. 0. 0. 0. 0. 1. 0. 0.]\n",
      " [0. 0. 0. 0. 0. 0. 1. 0. 0. 0.]\n",
      " [0. 0. 0. 0. 1. 0. 0. 0. 0. 0.]\n",
      " [0. 1. 0. 0. 0. 0. 0. 0. 0. 0.]\n",
      " [0. 0. 0. 0. 0. 0. 0. 0. 0. 1.]\n",
      " [0. 1. 0. 0. 0. 0. 0. 0. 0. 0.]\n",
      " [0. 0. 0. 0. 0. 0. 1. 0. 0. 0.]\n",
      " [0. 0. 0. 1. 0. 0. 0. 0. 0. 0.]\n",
      " [0. 0. 0. 0. 0. 0. 0. 0. 1. 0.]\n",
      " [0. 1. 0. 0. 0. 0. 0. 0. 0. 0.]\n",
      " [0. 0. 0. 0. 0. 0. 0. 1. 0. 0.]\n",
      " [0. 0. 0. 0. 0. 0. 0. 0. 0. 1.]\n",
      " [1. 0. 0. 0. 0. 0. 0. 0. 0. 0.]\n",
      " [0. 0. 0. 1. 0. 0. 0. 0. 0. 0.]\n",
      " [0. 0. 0. 0. 0. 0. 1. 0. 0. 0.]\n",
      " [0. 1. 0. 0. 0. 0. 0. 0. 0. 0.]\n",
      " [0. 0. 0. 0. 0. 0. 0. 0. 1. 0.]\n",
      " [0. 0. 0. 0. 0. 0. 0. 0. 0. 1.]]\n"
     ]
    }
   ],
   "source": [
    "horizon = len(data.index)*1\n",
    "k = len(top10ids.index)\n",
    "M = 10\n",
    "\n",
    "def reward(t,A):\n",
    "    t = t % len(data.index)\n",
    "    if data['MovieID'].iloc[t] == top10ids.index[A]:\n",
    "        return data['Liked'].iloc[t]\n",
    "    return None\n",
    "\n",
    "# Experts 100 random distributions f: age group -> movie\n",
    "expert = {}\n",
    "diag = np.zeros((k,k))\n",
    "np.fill_diagonal(diag, 1)\n",
    "diag = np.tile(diag,(M,1))\n",
    "for age in data['Age'].unique():\n",
    "    new_ks = diag.copy()\n",
    "    expert[age] = new_ks\n",
    "    np.random.shuffle(expert[age])\n",
    "\n",
    "def advice(t):\n",
    "    t = t % len(data.index)\n",
    "    return expert[data['Age'].iloc[t]]\n",
    "\n",
    "print(expert[25])"
   ]
  },
  {
   "cell_type": "markdown",
   "metadata": {
    "id": "8jUYx93SXriM"
   },
   "source": [
    "# **2. Experiments**"
   ]
  },
  {
   "cell_type": "markdown",
   "metadata": {
    "id": "KvNKwrWtYKZW"
   },
   "source": [
    "# a. UCB"
   ]
  },
  {
   "cell_type": "code",
   "execution_count": 11,
   "metadata": {
    "id": "JB03EenuX-xV"
   },
   "outputs": [],
   "source": [
    "# Policy\n",
    "def UCB_next_action(t, Q, N, c):\n",
    "    min_action = np.argmin(N)\n",
    "    if N[min_action] == 0:\n",
    "        next_action = min_action\n",
    "    else:\n",
    "        next_action = np.argmax(Q+c*np.sqrt(np.log(t)/N))\n",
    "    return next_action\n",
    "\n",
    "# Value updates and step sizes\n",
    "def update_weighted_average(t, Q, arm, pulls, reward, alpha):\n",
    "    Q[arm] = Q[arm] + alpha(t,pulls)*(reward - Q[arm])\n",
    "    return Q\n",
    "\n",
    "def const_step(*_):\n",
    "    return 0.1\n",
    "\n",
    "def sample_average_step(_,pulls):\n",
    "    return (1/pulls)\n",
    "\n",
    "def time_decrease_step(t,_):\n",
    "    return (1/(t+1))\n",
    "\n",
    "# Bandit interaction\n",
    "def UCB(k,reward,horizon,c=2,step_size=sample_average_step):\n",
    "    all_rewards = []\n",
    "    Q = np.zeros(k)\n",
    "    N = np.zeros(k)\n",
    "    t_hit = 0\n",
    "    for t in range(horizon):\n",
    "        A = UCB_next_action(t_hit,Q,N,c)\n",
    "        X = reward(t,A)\n",
    "        if X is not None:\n",
    "            N[A] += 1\n",
    "            Q = update_weighted_average(t_hit,Q,A,N[A],X,step_size)\n",
    "            all_rewards.append(X)\n",
    "            t_hit += 1\n",
    "    return all_rewards"
   ]
  },
  {
   "cell_type": "markdown",
   "metadata": {
    "id": "91TTBQFXYOcu"
   },
   "source": [
    "# b. Exp3"
   ]
  },
  {
   "cell_type": "code",
   "execution_count": 12,
   "metadata": {
    "id": "sNLbACz1YTMS"
   },
   "outputs": [],
   "source": [
    "# Policy\n",
    "def exp3_next_action(S, c):\n",
    "    P = np.exp(c*S)/np.sum(np.exp(c*S))\n",
    "    return np.random.choice(len(P),p=P), P\n",
    "\n",
    "# Action weight update\n",
    "def update_importance_weighted(S,arm,reward,P):\n",
    "    S[arm] = S[arm] + reward/P[arm]\n",
    "    return S\n",
    "\n",
    "# Bandit interaction\n",
    "def Exp3(k,reward,horizon,eta):\n",
    "    all_rewards = []\n",
    "    S = np.zeros(k)\n",
    "    for t in range(horizon):\n",
    "        A, P = exp3_next_action(S, eta)\n",
    "        X = reward(t,A)\n",
    "        if X is not None:\n",
    "            S = update_importance_weighted(S,A,X,P)\n",
    "            all_rewards.append(X)\n",
    "    return all_rewards"
   ]
  },
  {
   "cell_type": "markdown",
   "metadata": {
    "id": "Lqo_duRWYWNd"
   },
   "source": [
    "# c. Exp4"
   ]
  },
  {
   "cell_type": "code",
   "execution_count": 13,
   "metadata": {
    "id": "t_rWuXcPYdbc"
   },
   "outputs": [],
   "source": [
    "# Policy\n",
    "def exp4_next_action(Q, E):\n",
    "    P = np.matmul(Q,E)\n",
    "    return np.random.choice(len(P),p=P), P\n",
    "\n",
    "# Expert weight update\n",
    "def update_importance_weighted_with_experts(Q,E,arm,reward,P,c):\n",
    "    X_hat = update_importance_weighted(np.zeros(E.shape[1]),arm,reward,P)\n",
    "    X_tilde = np.dot(E,X_hat)\n",
    "    Q = np.multiply(np.exp(c*X_tilde),Q)/np.sum(np.multiply(np.exp(c*X_tilde),Q))\n",
    "    return Q\n",
    "\n",
    "# Bandit interaction\n",
    "def Exp4(M,reward,horizon,c,advice):\n",
    "    all_rewards = []\n",
    "    Q = np.full(M,1/M)\n",
    "    for t in range(horizon):\n",
    "        E = advice(t)\n",
    "        A, P = exp4_next_action(Q,E)\n",
    "        X = reward(t,A)\n",
    "        if X is not None:\n",
    "            Q = update_importance_weighted_with_experts(Q,E,A,X,P,c)\n",
    "            all_rewards.append(X)\n",
    "    return all_rewards"
   ]
  },
  {
   "cell_type": "code",
   "execution_count": 14,
   "metadata": {
    "id": "TViL1m6jKjRV"
   },
   "outputs": [],
   "source": [
    "ucb = UCB(k,reward,horizon)"
   ]
  },
  {
   "cell_type": "code",
   "execution_count": 15,
   "metadata": {
    "id": "3b1Cw7Z0KjRV"
   },
   "outputs": [],
   "source": [
    "eta = np.sqrt(2*np.log(k)/(horizon*k))\n",
    "exp3 = Exp3(k,reward,horizon,eta)"
   ]
  },
  {
   "cell_type": "code",
   "execution_count": 16,
   "metadata": {
    "id": "oqxeuzvXKjRV"
   },
   "outputs": [],
   "source": [
    "eta = np.sqrt(2*np.log(M)/(horizon*k))\n",
    "exp4 = Exp4(M*k,reward,horizon,eta,advice)"
   ]
  },
  {
   "cell_type": "code",
   "execution_count": 17,
   "metadata": {
    "colab": {
     "base_uri": "https://localhost:8080/",
     "height": 319
    },
    "id": "6aWC5iINKjRW",
    "outputId": "0dd7f337-dc19-4f9a-e808-66f75347ca0e"
   },
   "outputs": [
    {
     "data": {
      "text/plain": [
       "<matplotlib.legend.Legend at 0x15129deb14d0>"
      ]
     },
     "execution_count": 17,
     "metadata": {},
     "output_type": "execute_result"
    },
    {
     "data": {
      "image/png": "[encoded data removed]",
      "text/plain": [
       "<Figure size 640x480 with 1 Axes>"
      ]
     },
     "metadata": {},
     "output_type": "display_data"
    }
   ],
   "source": [
    "random = np.full(len(ucb),data['Liked'].value_counts(normalize=True)[1])\n",
    "\n",
    "fig1, ax1 = plt.subplots()\n",
    "ax1.plot(range(len(ucb)), np.cumsum(ucb), label='UCB')\n",
    "ax1.plot(range(len(exp3)), np.cumsum(exp3), label='Exp3')\n",
    "ax1.plot(range(len(exp4)), np.cumsum(exp4), label='Exp4')\n",
    "ax1.plot(range(len(random)), np.cumsum(random), label='Random')\n",
    "ax1.set_title(\"Cumulative reward using replay evaluation\")\n",
    "ax1.set_xlabel(\"Steps\")\n",
    "ax1.set_ylabel(\"Cumulative reward\")\n",
    "plt.legend()"
   ]
  },
  {
   "cell_type": "code",
   "execution_count": 18,
   "metadata": {
    "colab": {
     "base_uri": "https://localhost:8080/",
     "height": 319
    },
    "id": "LtKaIP1wKjRW",
    "outputId": "109776f0-c0a0-43eb-e7fa-3612a7e49a3c"
   },
   "outputs": [
    {
     "data": {
      "text/plain": [
       "<matplotlib.legend.Legend at 0x1512af493bd0>"
      ]
     },
     "execution_count": 18,
     "metadata": {},
     "output_type": "execute_result"
    },
    {
     "data": {
      "image/png": "[encoded data removed]",
      "text/plain": [
       "<Figure size 640x480 with 1 Axes>"
      ]
     },
     "metadata": {},
     "output_type": "display_data"
    }
   ],
   "source": [
    "cumulative_random = np.cumsum(random) / np.linspace(1, len(random), len(random))\n",
    "cumulative_ucb = np.cumsum(ucb) / np.linspace(1, len(ucb), len(ucb))\n",
    "cumulative_exp3 = np.cumsum(exp3) / np.linspace(1, len(exp3), len(exp3))\n",
    "cumulative_exp4 = np.cumsum(exp4) / np.linspace(1, len(exp4), len(exp4))\n",
    "\n",
    "fig1, ax1 = plt.subplots()\n",
    "ax1.plot(range(len(ucb)), np.asarray(pd.Series(cumulative_ucb).rolling(200).mean()), label='UCB')\n",
    "ax1.plot(range(len(exp3)), np.asarray(pd.Series(cumulative_exp3).rolling(200).mean()), label='Exp3')\n",
    "ax1.plot(range(len(exp4)), np.asarray(pd.Series(cumulative_exp4).rolling(200).mean()), label='Exp4')\n",
    "ax1.plot(range(len(random)), np.asarray(pd.Series(cumulative_random).rolling(200).mean()), label='Random')\n",
    "ax1.set_title(\"200-Round Rolling Mean Reward\")\n",
    "ax1.set_xlabel(\"Steps\")\n",
    "ax1.set_ylabel(\"Reward\")\n",
    "plt.legend()"
   ]
  },
  {
   "cell_type": "code",
   "execution_count": 20,
   "metadata": {
    "id": "-SNODhZSZfpD",
    "tags": []
   },
   "outputs": [
    {
     "name": "stdout",
     "output_type": "stream",
     "text": [
      "this\n"
     ]
    }
   ],
   "source": [
    "print(\"this\")"
   ]
  },
  {
   "cell_type": "code",
   "execution_count": null,
   "metadata": {},
   "outputs": [],
   "source": []
  }
 ],
 "metadata": {
  "colab": {
   "provenance": []
  },
  "interpreter": {
   "hash": "f2dbe8bebdc9babf0311c0fdc47eba64ef23899afc2cc5794675b5d984c6e1a4"
  },
  "kernelspec": {
   "display_name": "Python 3 (ipykernel)",
   "language": "python",
   "name": "python3"
  },
  "language_info": {
   "codemirror_mode": {
    "name": "ipython",
    "version": 3
   },
   "file_extension": ".py",
   "mimetype": "text/x-python",
   "name": "python",
   "nbconvert_exporter": "python",
   "pygments_lexer": "ipython3",
   "version": "3.7.12"
  }
 },
 "nbformat": 4,
 "nbformat_minor": 4
}
