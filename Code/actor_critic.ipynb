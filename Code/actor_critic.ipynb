{
 "cells": [
  {
   "cell_type": "markdown",
   "metadata": {
    "id": "8hvGSa4cl6n1"
   },
   "source": [
    "# **MOVIE RECOMMENDATION SYSTEM USING DEEP REINFORCEMENT LEARNING**"
   ]
  },
  {
   "cell_type": "markdown",
   "metadata": {
    "id": "-3IPTyIYykHr"
   },
   "source": [
    "\n",
    "Team :\n",
    "\n",
    "*  18PD05 : Bharathi A\n",
    "*  18PD33 : Shreenidhi N\n",
    "\n",
    "\n"
   ]
  },
  {
   "cell_type": "markdown",
   "metadata": {
    "id": "S88qesH5y1oO"
   },
   "source": [
    "Reference : \n",
    "\n",
    "*   https://arxiv.org/pdf/1801.00209.pdf"
   ]
  },
  {
   "cell_type": "markdown",
   "metadata": {
    "id": "czh7lzELzg0y"
   },
   "source": [
    "##**1. Importing Required libraries**"
   ]
  },
  {
   "cell_type": "code",
   "execution_count": 6,
   "metadata": {
    "colab": {
     "base_uri": "https://localhost:8080/"
    },
    "id": "q7OSkMpVrd6I",
    "outputId": "d69d8b11-bd13-4246-bcdd-3a790086cb90",
    "tags": []
   },
   "outputs": [],
   "source": [
    "# from google.colab import drive\n",
    "# drive.mount('/content/drive')"
   ]
  },
  {
   "cell_type": "code",
   "execution_count": 27,
   "metadata": {
    "id": "i6yQhnLEL-X6",
    "tags": []
   },
   "outputs": [
    {
     "ename": "ModuleNotFoundError",
     "evalue": "No module named 'google.colab'",
     "output_type": "error",
     "traceback": [
      "\u001b[0;31m---------------------------------------------------------------------------\u001b[0m",
      "\u001b[0;31mModuleNotFoundError\u001b[0m                       Traceback (most recent call last)",
      "\u001b[0;32m/tmp/ipykernel_905007/3874971556.py\u001b[0m in \u001b[0;36m<module>\u001b[0;34m\u001b[0m\n\u001b[1;32m      1\u001b[0m \u001b[0;32mimport\u001b[0m \u001b[0mos\u001b[0m\u001b[0;34m\u001b[0m\u001b[0;34m\u001b[0m\u001b[0m\n\u001b[1;32m      2\u001b[0m \u001b[0;31m# os.chdir('/content/drive/MyDrive/RL/Final Package')\u001b[0m\u001b[0;34m\u001b[0m\u001b[0;34m\u001b[0m\u001b[0;34m\u001b[0m\u001b[0m\n\u001b[0;32m----> 3\u001b[0;31m \u001b[0;32mfrom\u001b[0m \u001b[0mgoogle\u001b[0m\u001b[0;34m.\u001b[0m\u001b[0mcolab\u001b[0m \u001b[0;32mimport\u001b[0m \u001b[0mfiles\u001b[0m\u001b[0;34m\u001b[0m\u001b[0;34m\u001b[0m\u001b[0m\n\u001b[0m",
      "\u001b[0;31mModuleNotFoundError\u001b[0m: No module named 'google.colab'"
     ]
    }
   ],
   "source": [
    "import os\n",
    "# os.chdir('/content/drive/MyDrive/RL/Final Package')\n",
    "from google.colab import files"
   ]
  },
  {
   "cell_type": "code",
   "execution_count": null,
   "metadata": {},
   "outputs": [],
   "source": []
  },
  {
   "cell_type": "code",
   "execution_count": 8,
   "metadata": {
    "colab": {
     "base_uri": "https://localhost:8080/"
    },
    "id": "UY9AmDMC8Ka-",
    "outputId": "2fcee906-91dc-45dd-e4db-118a38b272b4",
    "tags": []
   },
   "outputs": [],
   "source": [
    "# %tensorflow_version 1.x"
   ]
  },
  {
   "cell_type": "code",
   "execution_count": 9,
   "metadata": {
    "colab": {
     "base_uri": "https://localhost:8080/"
    },
    "id": "9sxQ9H_YLmHD",
    "outputId": "098935b2-7bfb-4e84-a08a-931f758ebdd7",
    "tags": []
   },
   "outputs": [],
   "source": [
    "import pandas as pd\n",
    "import numpy as np\n",
    "import matplotlib.pyplot as plt\n",
    "\n",
    "import time\n",
    "import itertools\n",
    "import random\n",
    "import csv\n",
    "\n",
    "import tensorflow as tf\n",
    "import keras.backend as K\n",
    "from keras import Sequential\n",
    "from keras.layers import Dense, Dropout\n"
   ]
  },
  {
   "cell_type": "code",
   "execution_count": 10,
   "metadata": {
    "colab": {
     "base_uri": "https://localhost:8080/",
     "height": 35
    },
    "id": "M3XsCLG88LDo",
    "outputId": "a34e6678-c2ca-455a-863c-81b7ff94d362",
    "tags": []
   },
   "outputs": [
    {
     "data": {
      "text/plain": [
       "'1.15.2'"
      ]
     },
     "execution_count": 10,
     "metadata": {},
     "output_type": "execute_result"
    }
   ],
   "source": [
    "tf.__version__"
   ]
  },
  {
   "cell_type": "markdown",
   "metadata": {
    "id": "7W1yNQ0yMWB2"
   },
   "source": [
    "## **2. Data Extraction and Loading**"
   ]
  },
  {
   "cell_type": "markdown",
   "metadata": {
    "id": "2s9okDQY0Z8j"
   },
   "source": [
    "**The MovieLens dataset containing a set of movie ratings from the MovieLens website is used for recommendation**"
   ]
  },
  {
   "cell_type": "code",
   "execution_count": 11,
   "metadata": {
    "colab": {
     "base_uri": "https://localhost:8080/"
    },
    "id": "TaOLGkc4L8RA",
    "outputId": "64220b7c-775d-4d23-a45a-974fb66c7225",
    "tags": []
   },
   "outputs": [
    {
     "name": "stdout",
     "output_type": "stream",
     "text": [
      "--2025-04-29 15:16:48--  http://files.grouplens.org/datasets/movielens/ml-100k.zip\n",
      "Resolving files.grouplens.org (files.grouplens.org)... 128.101.65.152\n",
      "Connecting to files.grouplens.org (files.grouplens.org)|128.101.65.152|:80... connected.\n",
      "HTTP request sent, awaiting response... 200 OK\n",
      "Length: 4924029 (4.7M) [application/zip]\n",
      "Saving to: ‘ml-100k.zip’\n",
      "\n",
      "ml-100k.zip         100%[===================>]   4.70M  1.29MB/s    in 4.1s    \n",
      "\n",
      "2025-04-29 15:16:53 (1.15 MB/s) - ‘ml-100k.zip’ saved [4924029/4924029]\n",
      "\n"
     ]
    }
   ],
   "source": [
    "!wget http://files.grouplens.org/datasets/movielens/ml-100k.zip\n",
    "!unzip -q ml-100k.zip"
   ]
  },
  {
   "cell_type": "markdown",
   "metadata": {
    "id": "6YiSZsaO3MWQ"
   },
   "source": [
    "###**Preprocessing the MovieLens dataset**\n",
    "\n",
    "1.  Reading the dataset of user and items(movies)\n",
    "2.  Preprocess to create a row corresponding to a rate given by a user to a movie\n",
    "3.  Grouping of all ratings given by users, storing from old(historic) to latest rating based on time\n",
    "4. Spliting the data into train and test sets, users in test set are not present in the train set and vice versa. Unique users are present in both the sets.\n",
    "5. Saving the Train and Test data in the CSV format needed for further analysis. Format followed:  \n",
    "    1. rows : item_id with ratings (combined with &)\n",
    "    2. columns : state, rewards for actions, n_state"
   ]
  },
  {
   "cell_type": "markdown",
   "metadata": {
    "id": "KBmfNzj_6tED"
   },
   "source": []
  },
  {
   "cell_type": "code",
   "execution_count": 12,
   "metadata": {
    "id": "g9vTLvM1Msfg",
    "tags": []
   },
   "outputs": [],
   "source": [
    "class DataGenerator():\n",
    "\n",
    "\n",
    "  def __init__(self, path_to_data, path_to_item):\n",
    "    '''\n",
    "    Get the Movie lens data with the list of users, the movies(items) and their history\n",
    "    '''\n",
    "    self.data  = self.load_data(path_to_data, path_to_item)\n",
    "    self.users = self.data['userId'].unique()   \n",
    "    self.items = self.data['itemId'].unique()   \n",
    "    self.histo = self.generate_history_funtion()\n",
    "    self.train = []\n",
    "    self.test  = []\n",
    "\n",
    "  def load_data(self, path_to_data, path_to_item):\n",
    "    '''\n",
    "    Load the data\n",
    "    '''\n",
    "    data = pd.read_csv(path_to_data, sep='\\t', \n",
    "                       names=['userId', 'itemId', 'rating', 'timestamp'])\n",
    "    movie_titles = pd.read_csv(path_to_item, sep='|', names=['itemId', 'itemName'],\n",
    "                           usecols=range(2), encoding='latin-1')\n",
    "    return data.merge(movie_titles,on='itemId', how='left')\n",
    "\n",
    "\n",
    "  def generate_history_funtion(self):\n",
    "    '''\n",
    "    Group all rates given by users and store them from older to most recent based on time.\n",
    "    '''\n",
    "    historic_users = []\n",
    "    for i, u in enumerate(self.users):\n",
    "      temp = self.data[self.data['userId'] == u]\n",
    "      temp = temp.sort_values('timestamp').reset_index()\n",
    "      temp.drop('index', axis=1, inplace=True)\n",
    "      historic_users.append(temp)\n",
    "    return historic_users\n",
    "\n",
    "  def sample_history(self, user_histo, action_ratio=0.8, max_samp_by_user=5,  max_state=100, max_action=50, nb_states=[], nb_actions=[]):\n",
    "    '''\n",
    "    Making multiple samples for a given historic set, based on some number of states and actions\n",
    "    '''\n",
    "\n",
    "    n = len(user_histo)\n",
    "    sep = int(action_ratio * n)\n",
    "    nb_sample = random.randint(1, max_samp_by_user)\n",
    "    if not nb_states:\n",
    "      nb_states = [min(random.randint(1, sep), max_state) for i in range(nb_sample)]\n",
    "    if not nb_actions:\n",
    "      nb_actions = [min(random.randint(1, n - sep), max_action) for i in range(nb_sample)]\n",
    "    assert len(nb_states) == len(nb_actions), 'Given array must have the same size'\n",
    "    \n",
    "    states  = []\n",
    "    actions = []\n",
    "    \n",
    "    for i in range(len(nb_states)):\n",
    "      sample_states = user_histo.iloc[0:sep].sample(nb_states[i])\n",
    "      sample_actions = user_histo.iloc[-(n - sep):].sample(nb_actions[i])\n",
    "      \n",
    "      sample_state =  []\n",
    "      sample_action = []\n",
    "      for j in range(nb_states[i]):\n",
    "        row   = sample_states.iloc[j]\n",
    "        # FORMAT STATE\n",
    "        state = str(row.loc['itemId']) + '&' + str(row.loc['rating'])\n",
    "        sample_state.append(state)\n",
    "      \n",
    "      for j in range(nb_actions[i]):\n",
    "        row  = sample_actions.iloc[j]\n",
    "        # FORMAT ACTION\n",
    "        action = str(row.loc['itemId']) + '&' + str(row.loc['rating'])\n",
    "        sample_action.append(action)\n",
    "\n",
    "      states.append(sample_state)\n",
    "      actions.append(sample_action)\n",
    "    return states, actions\n",
    "\n",
    "  def get_train_test_split(self, test_ratio, seed=None):\n",
    "    '''\n",
    "    Create train and test datasets\n",
    "    '''\n",
    "    n = len(self.histo)\n",
    "\n",
    "    if seed is not None:\n",
    "      random.Random(seed).shuffle(self.histo)\n",
    "    else:\n",
    "      random.shuffle(self.histo)\n",
    "\n",
    "    self.train = self.histo[:int((test_ratio * n))]\n",
    "    self.test  = self.histo[int((test_ratio * n)):]\n",
    "    self.user_train = [h.iloc[0,0] for h in self.train]\n",
    "    self.user_test  = [h.iloc[0,0] for h in self.test]\n",
    "    \n",
    "\n",
    "  def write_csv(self, filename, histo_to_write, delimiter=';', action_ratio=0.8, max_samp_by_user=5, max_state=100, max_action=50, nb_states=[], nb_actions=[]):\n",
    "    \n",
    "    with open(filename, mode='w') as file:\n",
    "      f_writer = csv.writer(file, delimiter=delimiter)\n",
    "      f_writer.writerow(['state', 'action_reward', 'n_state'])\n",
    "      for user_histo in histo_to_write:\n",
    "        states, actions = self.sample_history(user_histo, action_ratio, max_samp_by_user, max_state, max_action, nb_states, nb_actions)\n",
    "        for i in range(len(states)):\n",
    "          # FORMAT STATE\n",
    "          state_str   = '|'.join(states[i])\n",
    "          # FORMAT ACTION\n",
    "          action_str  = '|'.join(actions[i])\n",
    "          # FORMAT N_STATE\n",
    "          n_state_str = state_str + '|' + action_str\n",
    "          f_writer.writerow([state_str, action_str, n_state_str])\n"
   ]
  },
  {
   "cell_type": "markdown",
   "metadata": {
    "id": "s_f4hrNiNJxr"
   },
   "source": [
    "## **3. Generating Embeddings for Movies**"
   ]
  },
  {
   "cell_type": "markdown",
   "metadata": {
    "id": "FDXaAKcd7MPY"
   },
   "source": [
    "###**Creation of Embedding vector for each movie item**\n",
    "\n",
    "\n",
    "1.   Embedding vector created for each movie based on the context\n",
    "\n",
    "\n",
    "2. The embeddings are learnt by training a sequential neural network model, where the weight of hidden states will give the output embeddings\n",
    "\n",
    "3. Training steps :\n",
    "  1. Context : a set of historic movies rated for a user with 1 random movie removed\n",
    "  2. Target : the removed movie from historic list\n",
    "\n",
    "  3. For multiple targets and its corresponding contexts, the embedding for the target movie is created\n",
    "  4. Therefore, after training,  each movie gets a corresponding vector representation based the context of occurrence\n",
    "\n",
    "4. Embeddings of each movie is obtained and saved into a file\n",
    "\n",
    "\n",
    "\n",
    "\n",
    "\n",
    "\n"
   ]
  },
  {
   "cell_type": "code",
   "execution_count": 28,
   "metadata": {
    "id": "ImU11xhdNOSF",
    "tags": []
   },
   "outputs": [],
   "source": [
    "class EmbeddingsGenerator:\n",
    "\n",
    "  def  __init__(self, train_users, data):\n",
    "    self.train_users = train_users\n",
    "\n",
    "    self.data = data.sort_values(by=['timestamp'])\n",
    "   \n",
    "    self.data['userId'] = self.data['userId'] - 1\n",
    "    self.data['itemId'] = self.data['itemId'] - 1\n",
    "\n",
    "    self.user_count = self.data['userId'].max() + 1\n",
    "    self.movie_count = self.data['itemId'].max() + 1\n",
    "\n",
    "    self.user_movies = {} #list of rated movies by each user\n",
    "    for userId in range(self.user_count):\n",
    "      self.user_movies[userId] = self.data[self.data.userId == userId]['itemId'].tolist()\n",
    "    self.m = self.define_model()\n",
    "\n",
    "  def define_model(self, hidden_layer_size=100):\n",
    "    # adding required layers\n",
    "    m = Sequential()\n",
    "    m.add(Dense(hidden_layer_size, input_shape=(1, self.movie_count)))\n",
    "    m.add(Dropout(0.2))\n",
    "    m.add(Dense(self.movie_count, activation='softmax'))\n",
    "    m.compile(optimizer='adam', loss='categorical_crossentropy', metrics=['accuracy'])\n",
    "    return m\n",
    "  \n",
    "  def generate_input(self, user_id):\n",
    "    '''\n",
    "    Returns a context and a target for the user_id\n",
    "    '''\n",
    "    user_movies_count = len(self.user_movies[user_id])\n",
    "    #picking random movie\n",
    "    random_index = np.random.randint(0, user_movies_count-1) # -1 avoids taking the last movie\n",
    "    #set target\n",
    "    target = np.zeros((1, self.movie_count))\n",
    "    target[0][self.user_movies[user_id][random_index]] = 1\n",
    "    #set context\n",
    "    context = np.zeros((1, self.movie_count))\n",
    "    context[0][self.user_movies[user_id][:random_index] + self.user_movies[user_id][random_index+1:]] = 1\n",
    "    return context, target\n",
    "\n",
    "  def train(self, nb_epochs = 300, batch_size = 10000):\n",
    "    '''\n",
    "    Trains the model from train_users's history\n",
    "    '''\n",
    "    for i in range(nb_epochs):\n",
    "      print('%d/%d' % (i+1, nb_epochs))\n",
    "      batch = [self.generate_input(user_id=np.random.choice(self.train_users) - 1) for _ in range(batch_size)]\n",
    "      X_train = np.array([b[0] for b in batch])\n",
    "      y_train = np.array([b[1] for b in batch])\n",
    "      self.m.fit(X_train, y_train, epochs=1, validation_split=0.5)\n",
    "\n",
    "  def test(self, test_users, batch_size = 100000):\n",
    "    '''\n",
    "    Returns on the test set\n",
    "    '''\n",
    "    batch_test = [self.generate_input(user_id=np.random.choice(test_users) - 1) for _ in range(batch_size)]\n",
    "    X_test = np.array([b[0] for b in batch_test])\n",
    "    y_test = np.array([b[1] for b in batch_test])\n",
    "    return self.m.evaluate(X_test, y_test)\n",
    "\n",
    "  def save_embeddings(self, file_name):\n",
    "    '''\n",
    "    Generates a csv file containg the vector embedding for each movie.\n",
    "    '''\n",
    "    inp = self.m.input                                           # input placeholder\n",
    "    outputs = [layer.output for layer in self.m.layers]          # all layer outputs\n",
    "    functor = K.function([inp, K.learning_phase()], outputs )   # evaluation function\n",
    "\n",
    "    #append embeddings to vectors\n",
    "    vectors = []\n",
    "    for movie_id in range(self.movie_count):\n",
    "      movie = np.zeros((1, 1, self.movie_count))\n",
    "      movie[0][0][movie_id] = 1\n",
    "      layer_outs = functor([movie])\n",
    "      vector = [str(v) for v in layer_outs[0][0][0]]\n",
    "      vector = '|'.join(vector)\n",
    "      vectors.append([movie_id, vector])\n",
    "\n",
    "    #saves as a csv file\n",
    "    embeddings = pd.DataFrame(vectors, columns=['item_id', 'vectors']).astype({'item_id': 'int32'})\n",
    "    embeddings.to_csv(file_name, sep=';', index=False)\n",
    "    # files.download(file_name) \n",
    "\n"
   ]
  },
  {
   "cell_type": "code",
   "execution_count": 29,
   "metadata": {
    "id": "OBgjHWDS93CI",
    "tags": []
   },
   "outputs": [],
   "source": [
    "class Embeddings:\n",
    "  def __init__(self, item_embeddings):\n",
    "    self.item_embeddings = item_embeddings\n",
    "  \n",
    "  def size(self):\n",
    "    return self.item_embeddings.shape[1]\n",
    "  \n",
    "  def get_embedding_vector(self):\n",
    "    return self.item_embeddings\n",
    "  \n",
    "  def get_embedding(self, item_index):\n",
    "    return self.item_embeddings[item_index]\n",
    "\n",
    "  def embed(self, item_list):\n",
    "    return np.array([self.get_embedding(item) for item in item_list])"
   ]
  },
  {
   "cell_type": "markdown",
   "metadata": {
    "id": "QDAfxBwT96Xh"
   },
   "source": [
    "###**Functions to help in loading the train and test data and embeddings saved**"
   ]
  },
  {
   "cell_type": "code",
   "execution_count": 30,
   "metadata": {
    "id": "XRxo0mjfNWa-",
    "tags": []
   },
   "outputs": [],
   "source": [
    "def file_reading(data_path):\n",
    "  ''' Load data from train.csv or test.csv. '''\n",
    "\n",
    "  data = pd.read_csv(data_path, sep=';')\n",
    "  for col in ['state', 'n_state', 'action_reward']:\n",
    "    data[col] = [np.array([[np.int(k) for k in ee.split('&')] for ee in e.split('|')]) for e in data[col]]\n",
    "  for col in ['state', 'n_state']:\n",
    "    data[col] = [np.array([e[0] for e in l]) for l in data[col]]\n",
    "\n",
    "  data['action'] = [[e[0] for e in l] for l in data['action_reward']]\n",
    "  data['reward'] = [tuple(e[1] for e in l) for l in data['action_reward']]\n",
    "  data.drop(columns=['action_reward'], inplace=True)\n",
    "\n",
    "  return data\n",
    "\n",
    "def embeddings_reading(embeddings_path):\n",
    "  ''' Load embeddings (a vector for each item). '''\n",
    "  \n",
    "  embeddings = pd.read_csv(embeddings_path, sep=';')\n",
    "\n",
    "  return np.array([[np.float64(k) for k in e.split('|')]\n",
    "                   for e in embeddings['vectors']])"
   ]
  },
  {
   "cell_type": "markdown",
   "metadata": {
    "id": "mn93RKRzNXKy"
   },
   "source": [
    "## **4. Environment Simulator**"
   ]
  },
  {
   "cell_type": "markdown",
   "metadata": {
    "id": "UM2y58-L-jwV"
   },
   "source": [
    "###**Modelling the recommendation problem as MDP : Markov Decision Process**\n",
    "1. The states, actions, rewards, trainsition probabilities, discount factor are defined\n",
    "  1. States S : The previously rated set of moveis sorted with respect to time ( old to latest ratings) for a user\n",
    "  2. Actions A : Recommend a list of items to a user at time t based on current state\n",
    "  3. Reward R : based on the rating given by the user\n",
    "  4. Transition probabilities :  the probability of state transition from st to st+1 for taking action at.\n",
    "  5. Discount factor : value lying between 0 and 1"
   ]
  },
  {
   "cell_type": "code",
   "execution_count": 31,
   "metadata": {
    "id": "yn7n9BwbNeyl",
    "tags": []
   },
   "outputs": [],
   "source": [
    "class Environment():\n",
    "\n",
    "  def __init__(self, data, embeddings, alpha, gamma, fixed_length):\n",
    "\n",
    "    self.embeddings = embeddings\n",
    "    self.embedded_data = pd.DataFrame()\n",
    "    self.embedded_data['state'] = [np.array([embeddings.get_embedding(item_id) \n",
    "      for item_id in row['state']]) for _, row in data.iterrows()]\n",
    "    self.embedded_data['action'] = [np.array([embeddings.get_embedding(item_id) \n",
    "      for item_id in row['action']]) for _, row in data.iterrows()]\n",
    "    self.embedded_data['reward'] = data['reward']\n",
    "\n",
    "    self.alpha = alpha # α (alpha) \n",
    "    self.gamma = gamma # Γ (Gamma) \n",
    "    self.fixed_length = fixed_length\n",
    "    self.current_state = self.reset()\n",
    "    self.groups = self.get_groups()\n",
    "\n",
    "  def reset(self):\n",
    "    self.init_state = self.embedded_data['state'].sample(1).values[0]\n",
    "    return self.init_state\n",
    "\n",
    "  def step(self, actions):\n",
    "    '''\n",
    "    Compute reward and update state \n",
    "    '''\n",
    "    # Compute overall reward r_t\n",
    "    simulated_rewards, cumulated_reward = self.simulate_rewards(self.current_state.reshape((1, -1)), actions.reshape((1, -1)))\n",
    "\n",
    "    # Set s_t+1 = s_t <=> self.current_state = self.current_state\n",
    "\n",
    "    for k in range(len(simulated_rewards)): # '12: for k = 1, K do'\n",
    "      if simulated_rewards[k] > 0: # '13: if r_t^k > 0 then'\n",
    "        # '14: Add a_t^k to the end of s_t+1'\n",
    "        self.current_state = np.append(self.current_state, [actions[k]], axis=0)\n",
    "        if self.fixed_length: # '15: Remove the first item of s_t+1'\n",
    "          self.current_state = np.delete(self.current_state, 0, axis=0)\n",
    "\n",
    "    return cumulated_reward, self.current_state\n",
    "\n",
    "  def get_groups(self):\n",
    "    ''' Calculate average state/action value for each group '''\n",
    "\n",
    "    groups = []\n",
    "    for rewards, group in self.embedded_data.groupby(['reward']):\n",
    "      size = group.shape[0]\n",
    "      states = np.array(list(group['state'].values))\n",
    "      actions = np.array(list(group['action'].values))\n",
    "      groups.append({\n",
    "        'size': size, # N_x in article\n",
    "        'rewards': rewards, # U_x in article (combination of rewards)\n",
    "        'average state': (np.sum(states / np.linalg.norm(states, 2, axis=1)[:, np.newaxis], axis=0) / size).reshape((1, -1)), # s_x^-\n",
    "        'average action': (np.sum(actions / np.linalg.norm(actions, 2, axis=1)[:, np.newaxis], axis=0) / size).reshape((1, -1)) # a_x^-\n",
    "      })\n",
    "    return groups\n",
    "\n",
    "  def simulate_rewards(self, current_state, chosen_actions, reward_type='grouped cosine'):\n",
    "    '''\n",
    "    Calculate simulated rewards\n",
    "    '''\n",
    "    def cosine_state_action(s_t, a_t, s_i, a_i):\n",
    "      cosine_state = np.dot(s_t, s_i.T) / (np.linalg.norm(s_t, 2) * np.linalg.norm(s_i, 2))\n",
    "      cosine_action = np.dot(a_t, a_i.T) / (np.linalg.norm(a_t, 2) * np.linalg.norm(a_i, 2))\n",
    "      return (self.alpha * cosine_state + (1 - self.alpha) * cosine_action).reshape((1,))\n",
    "\n",
    "    if reward_type == 'normal':\n",
    "      # Calculate simulated reward \n",
    "      probabilities = [cosine_state_action(current_state, chosen_actions, row['state'], row['action'])\n",
    "        for _, row in self.embedded_data.iterrows()]\n",
    "    elif reward_type == 'grouped average':\n",
    "      # Calculate simulated reward by grouped average\n",
    "      probabilities = np.array([g['size'] for g in self.groups]) *\\\n",
    "        [(self.alpha * (np.dot(current_state, g['average state'].T) / np.linalg.norm(current_state, 2))\\\n",
    "        + (1 - self.alpha) * (np.dot(chosen_actions, g['average action'].T) / np.linalg.norm(chosen_actions, 2)))\n",
    "        for g in self.groups]\n",
    "    elif reward_type == 'grouped cosine':\n",
    "      # Calculate simulated reward by grouped cosine\n",
    "      probabilities = [cosine_state_action(current_state, chosen_actions, g['average state'], g['average action'])\n",
    "        for g in self.groups]\n",
    "\n",
    "    # Normalizing\n",
    "    probabilities = np.array(probabilities) / sum(probabilities)\n",
    "\n",
    "    # Get most probable rewards\n",
    "    if reward_type == 'normal':\n",
    "      returned_rewards = self.embedded_data.iloc[np.argmax(probabilities)]['reward']\n",
    "    elif reward_type in ['grouped average', 'grouped cosine']:\n",
    "      returned_rewards = self.groups[np.argmax(probabilities)]['rewards']\n",
    "\n",
    "    \n",
    "    def overall_reward(rewards, gamma):\n",
    "      return np.sum([gamma**k * reward for k, reward in enumerate(rewards)])\n",
    "\n",
    "    if reward_type in ['normal', 'grouped average']:\n",
    "      # Get cumulated reward\n",
    "      cumulated_reward = overall_reward(returned_rewards, self.gamma)\n",
    "    elif reward_type == 'grouped cosine':\n",
    "      # Get probability weighted cumulated reward\n",
    "      cumulated_reward = np.sum([p * overall_reward(g['rewards'], self.gamma)\n",
    "        for p, g in zip(probabilities, self.groups)])\n",
    "\n",
    "    return returned_rewards, cumulated_reward\n"
   ]
  },
  {
   "cell_type": "markdown",
   "metadata": {
    "id": "EYw33rm9NjRv"
   },
   "source": [
    "##**5. Actor**"
   ]
  },
  {
   "cell_type": "markdown",
   "metadata": {
    "id": "C8dAIRFgBkL8"
   },
   "source": [
    "###**The actor framework created**\n",
    "\n",
    "2 steps in the framework : A state-specific scoring function, which rates items according to\n",
    "user’s current state; instead of just considering the average.\n",
    "1. State-specific scoring function parameter generating. \n",
    "2. action generating.\n"
   ]
  },
  {
   "cell_type": "markdown",
   "metadata": {
    "id": "O14HzIQWC8mV"
   },
   "source": [
    "Recommendation of a list of movies. Here the output are the corresponding embeddings of the movies recommended."
   ]
  },
  {
   "cell_type": "code",
   "execution_count": 32,
   "metadata": {
    "id": "hEPPMhgGNnrk",
    "tags": []
   },
   "outputs": [],
   "source": [
    "class Actor():\n",
    "  ''' Policy function approximator '''\n",
    "  \n",
    "  def __init__(self, sess, state_space_size, action_space_size, batch_size, ra_length, history_length, embedding_size, tau, learning_rate, scope='actor'):\n",
    "    self.sess = sess\n",
    "    self.state_space_size = state_space_size\n",
    "    self.action_space_size = action_space_size\n",
    "    self.batch_size = batch_size\n",
    "    self.ra_length = ra_length\n",
    "    self.history_length = history_length\n",
    "    self.embedding_size = embedding_size\n",
    "    self.tau = tau\n",
    "    self.learning_rate = learning_rate\n",
    "    self.scope = scope\n",
    "\n",
    "    with tf.variable_scope(self.scope):\n",
    "      # Build Actor network\n",
    "      self.action_weights, self.state, self.sequence_length = self._build_net('estimator_actor')\n",
    "      self.network_params = tf.trainable_variables()\n",
    "\n",
    "      # Build target Actor network\n",
    "      self.target_action_weights, self.target_state, self.target_sequence_length = self._build_net('target_actor')\n",
    "      self.target_network_params = tf.trainable_variables()[len(self.network_params):] # TODO: why sublist [len(x):]? Maybe because its equal to network_params + target_network_params\n",
    "\n",
    "      # Initialize target network weights with network weights (θ^π′ ← θ^π)\n",
    "      self.init_target_network_params = [self.target_network_params[i].assign(self.network_params[i])\n",
    "        for i in range(len(self.target_network_params))]\n",
    "        \n",
    "      # Update target network weights (θ^π′ ← τθ^π + (1 − τ)θ^π′)\n",
    "      self.update_target_network_params = [self.target_network_params[i].assign(\n",
    "        tf.multiply(self.tau, self.network_params[i]) +\n",
    "        tf.multiply(1 - self.tau, self.target_network_params[i]))\n",
    "        for i in range(len(self.target_network_params))]\n",
    "\n",
    "      # Gradient computation from Critic's action_gradients\n",
    "      self.action_gradients = tf.placeholder(tf.float32, [None, self.action_space_size])\n",
    "      gradients = tf.gradients(tf.reshape(self.action_weights, [self.batch_size, self.action_space_size], name='42222222222'),\n",
    "                               self.network_params,\n",
    "                               self.action_gradients)\n",
    "      params_gradients = list(map(lambda x: tf.div(x, self.batch_size * self.action_space_size), gradients))\n",
    "      \n",
    "      # Compute ∇_a.Q(s, a|θ^µ).∇_θ^π.f_θ^π(s)\n",
    "      self.optimizer = tf.train.AdamOptimizer(self.learning_rate).apply_gradients(\n",
    "          zip(params_gradients, self.network_params))\n",
    "\n",
    "  def _build_net(self, scope):\n",
    "    ''' Build the (target) Actor network '''\n",
    "\n",
    "    def gather_last_output(data, seq_lens):\n",
    "      def cli_value(x, v):\n",
    "        y = tf.constant(v, shape=x.get_shape(), dtype=tf.int64)\n",
    "        x = tf.cast(x, tf.int64)\n",
    "        return tf.where(tf.greater(x, y), x, y)\n",
    "\n",
    "      batch_range = tf.range(tf.cast(tf.shape(data)[0], dtype=tf.int64), dtype=tf.int64)\n",
    "      tmp_end = tf.map_fn(lambda x: cli_value(x, 0), seq_lens - 1, dtype=tf.int64)\n",
    "      indices = tf.stack([batch_range, tmp_end], axis=1)\n",
    "      return tf.gather_nd(data, indices)\n",
    "\n",
    "    with tf.variable_scope(scope):\n",
    "     \n",
    "      state = tf.placeholder(tf.float32, [None, self.state_space_size], 'state')\n",
    "      state_ = tf.reshape(state, [-1, self.history_length, self.embedding_size])\n",
    "      sequence_length = tf.placeholder(tf.int32, [None], 'sequence_length')\n",
    "      cell = tf.nn.rnn_cell.GRUCell(self.embedding_size,\n",
    "                                    activation=tf.nn.relu,\n",
    "                                    kernel_initializer=tf.initializers.random_normal(),\n",
    "                                    bias_initializer=tf.zeros_initializer())\n",
    "      outputs, _ = tf.nn.dynamic_rnn(cell, state_, dtype=tf.float32, sequence_length=sequence_length)\n",
    "      last_output = gather_last_output(outputs, sequence_length) \n",
    "      x = tf.keras.layers.Dense(self.ra_length * self.embedding_size)(last_output)\n",
    "      action_weights = tf.reshape(x, [-1, self.ra_length, self.embedding_size])\n",
    "\n",
    "    return action_weights, state, sequence_length\n",
    "\n",
    "  def train(self, state, sequence_length, action_gradients):\n",
    "    '''  Compute ∇_a.Q(s, a|θ^µ).∇_θ^π.f_θ^π(s). '''\n",
    "    self.sess.run(self.optimizer,\n",
    "                  feed_dict={\n",
    "                      self.state: state,\n",
    "                      self.sequence_length: sequence_length,\n",
    "                      self.action_gradients: action_gradients})\n",
    "\n",
    "  def predict(self, state, sequence_length):\n",
    "    return self.sess.run(self.action_weights,\n",
    "                         feed_dict={\n",
    "                             self.state: state,\n",
    "                             self.sequence_length: sequence_length})\n",
    "\n",
    "  def predict_target(self, state, sequence_length):\n",
    "    return self.sess.run(self.target_action_weights,\n",
    "                         feed_dict={\n",
    "                             self.target_state: state,\n",
    "                             self.target_sequence_length: sequence_length})\n",
    "\n",
    "  def init_target_network(self):\n",
    "    self.sess.run(self.init_target_network_params)\n",
    "\n",
    "  def update_target_network(self):\n",
    "    self.sess.run(self.update_target_network_params)\n",
    "    \n",
    "  def get_recommendation_list(self, ra_length, noisy_state, embeddings, target=False):\n",
    "   \n",
    "    def get_score(weights, embedding, batch_size):\n",
    "     \n",
    "      ret = np.dot(weights, embedding.T)\n",
    "      return ret\n",
    "\n",
    "    batch_size = noisy_state.shape[0]\n",
    "\n",
    "    # Generate w_t = {w_t^1, ..., w_t^K} \n",
    "    method = self.predict_target if target else self.predict\n",
    "    weights = method(noisy_state, [ra_length] * batch_size)\n",
    "\n",
    "    # Score items \n",
    "    scores = np.array([[[get_score(weights[i][k], embedding, batch_size)\n",
    "      for embedding in embeddings.get_embedding_vector()]\n",
    "      for k in range(ra_length)]\n",
    "      for i in range(batch_size)])\n",
    "\n",
    "    return np.array([[embeddings.get_embedding(np.argmax(scores[i][k]))\n",
    "      for k in range(ra_length)]\n",
    "      for i in range(batch_size)])\n"
   ]
  },
  {
   "cell_type": "markdown",
   "metadata": {
    "id": "-nT-mTv7Ns5r"
   },
   "source": [
    "##**6. Critic**"
   ]
  },
  {
   "cell_type": "markdown",
   "metadata": {
    "id": "BnUyTGFeDQ2w"
   },
   "source": [
    "###**An approximator to learn the action-value function**\n",
    "1. Necessary for the judgment of whether the\n",
    "action at generated by Actor matches the current state st\n",
    "2. Updation of parameters in the direction of improving the performance"
   ]
  },
  {
   "cell_type": "code",
   "execution_count": 33,
   "metadata": {
    "id": "h4XIrmbFNu2P",
    "tags": []
   },
   "outputs": [],
   "source": [
    "class Critic():\n",
    "  ''' Value function approximator '''\n",
    "  \n",
    "  def __init__(self, sess, state_space_size, action_space_size, history_length, embedding_size, tau, learning_rate, scope='critic'):\n",
    "    self.sess = sess\n",
    "    self.state_space_size = state_space_size\n",
    "    self.action_space_size = action_space_size\n",
    "    self.history_length = history_length\n",
    "    self.embedding_size = embedding_size\n",
    "    self.tau = tau\n",
    "    self.learning_rate = learning_rate\n",
    "    self.scope = scope\n",
    "\n",
    "    with tf.variable_scope(self.scope):\n",
    "      # Build Critic network\n",
    "      self.critic_Q_value, self.state, self.action, self.sequence_length = self._build_net('estimator_critic')\n",
    "      self.network_params = tf.get_collection(tf.GraphKeys.TRAINABLE_VARIABLES, scope='estimator_critic')\n",
    "\n",
    "      # Build target Critic network\n",
    "      self.target_Q_value, self.target_state, self.target_action, self.target_sequence_length = self._build_net('target_critic')\n",
    "      self.target_network_params = tf.get_collection(tf.GraphKeys.TRAINABLE_VARIABLES, scope='target_critic')\n",
    "\n",
    "      # Initialize target network weights with network weights (θ^µ′ ← θ^µ)\n",
    "      self.init_target_network_params = [self.target_network_params[i].assign(self.network_params[i])\n",
    "        for i in range(len(self.target_network_params))]\n",
    "\n",
    "      # Update target network weights (θ^µ′ ← τθ^µ + (1 − τ)θ^µ′)\n",
    "      self.update_target_network_params = [self.target_network_params[i].assign(\n",
    "        tf.multiply(self.tau, self.network_params[i]) +\n",
    "        tf.multiply(1 - self.tau, self.target_network_params[i]))\n",
    "        for i in range(len(self.target_network_params))]\n",
    "\n",
    "      # Minimize MSE between Critic's and target Critic's outputed Q-values\n",
    "      self.expected_reward = tf.placeholder(tf.float32, [None, 1])\n",
    "      self.loss = tf.reduce_mean(tf.squared_difference(self.expected_reward, self.critic_Q_value))\n",
    "      self.optimizer = tf.train.AdamOptimizer(self.learning_rate).minimize(self.loss)\n",
    "\n",
    "      # Compute ∇_a.Q(s, a|θ^µ)\n",
    "      self.action_gradients = tf.gradients(self.critic_Q_value, self.action)\n",
    "\n",
    "  def _build_net(self, scope):\n",
    "    ''' Build the (target) Critic network '''\n",
    "\n",
    "    def gather_last_output(data, seq_lens):\n",
    "      def cli_value(x, v):\n",
    "        y = tf.constant(v, shape=x.get_shape(), dtype=tf.int64)\n",
    "        return tf.where(tf.greater(x, y), x, y)\n",
    "\n",
    "      this_range = tf.range(tf.cast(tf.shape(seq_lens)[0], dtype=tf.int64), dtype=tf.int64)\n",
    "      tmp_end = tf.map_fn(lambda x: cli_value(x, 0), seq_lens - 1, dtype=tf.int64)\n",
    "      indices = tf.stack([this_range, tmp_end], axis=1)\n",
    "      return tf.gather_nd(data, indices)\n",
    "\n",
    "    with tf.variable_scope(scope):\n",
    "      \n",
    "      state = tf.placeholder(tf.float32, [None, self.state_space_size], 'state')\n",
    "      state_ = tf.reshape(state, [-1, self.history_length, self.embedding_size])\n",
    "      action = tf.placeholder(tf.float32, [None, self.action_space_size], 'action')\n",
    "      sequence_length = tf.placeholder(tf.int64, [None], name='critic_sequence_length')\n",
    "      cell = tf.nn.rnn_cell.GRUCell(self.history_length,\n",
    "                                    activation=tf.nn.relu,\n",
    "                                    kernel_initializer=tf.initializers.random_normal(),\n",
    "                                    bias_initializer=tf.zeros_initializer())\n",
    "      predicted_state, _ = tf.nn.dynamic_rnn(cell, state_, dtype=tf.float32, sequence_length=sequence_length)\n",
    "      predicted_state = gather_last_output(predicted_state, sequence_length)\n",
    "\n",
    "      inputs = tf.concat([predicted_state, action], axis=-1)\n",
    "      layer1 = tf.layers.Dense(32, activation=tf.nn.relu)(inputs)\n",
    "      layer2 = tf.layers.Dense(16, activation=tf.nn.relu)(layer1)\n",
    "      critic_Q_value = tf.layers.Dense(1)(layer2)\n",
    "      return critic_Q_value, state, action, sequence_length\n",
    "\n",
    "  def train(self, state, action, sequence_length, expected_reward):\n",
    "    ''' Minimize MSE between expected reward and target Critic's Q-value '''\n",
    "    return self.sess.run([self.critic_Q_value, self.loss, self.optimizer],\n",
    "                         feed_dict={\n",
    "                             self.state: state,\n",
    "                             self.action: action,\n",
    "                             self.sequence_length: sequence_length,\n",
    "                             self.expected_reward: expected_reward})\n",
    "\n",
    "  def predict(self, state, action, sequence_length):\n",
    "    ''' Returns Critic's predicted Q-value '''\n",
    "    return self.sess.run(self.critic_Q_value,\n",
    "                         feed_dict={\n",
    "                             self.state: state,\n",
    "                             self.action: action,\n",
    "                             self.sequence_length: sequence_length})\n",
    "\n",
    "  def predict_target(self, state, action, sequence_length):\n",
    "    ''' Returns target Critic's predicted Q-value '''\n",
    "    return self.sess.run(self.target_Q_value,\n",
    "                         feed_dict={\n",
    "                             self.target_state: state,\n",
    "                             self.target_action: action,\n",
    "                             self.target_sequence_length: sequence_length})\n",
    "\n",
    "  def get_action_gradients(self, state, action, sequence_length):\n",
    "    ''' Returns ∇_a.Q(s, a|θ^µ) '''\n",
    "    return np.array(self.sess.run(self.action_gradients,\n",
    "                         feed_dict={\n",
    "                             self.state: state,\n",
    "                             self.action: action,\n",
    "                             self.sequence_length: sequence_length})[0])\n",
    "\n",
    "  def init_target_network(self):\n",
    "    self.sess.run(self.init_target_network_params)\n",
    "\n",
    "  def update_target_network(self):\n",
    "    self.sess.run(self.update_target_network_params)"
   ]
  },
  {
   "cell_type": "markdown",
   "metadata": {
    "id": "khxQKASgN2SJ"
   },
   "source": [
    "##**7. Replay**"
   ]
  },
  {
   "cell_type": "markdown",
   "metadata": {
    "id": "T-JgMEpTE_lf"
   },
   "source": [
    "###**The states and rewards for transitions are stored**"
   ]
  },
  {
   "cell_type": "code",
   "execution_count": 34,
   "metadata": {
    "id": "clEPq0jYN-Pv",
    "tags": []
   },
   "outputs": [],
   "source": [
    "class ReplayMemory():\n",
    "  ''' Replay memory D in article '''\n",
    "  \n",
    "  def __init__(self, buffer_size):\n",
    "    self.buffer_size = buffer_size\n",
    "    self.buffer = []\n",
    "\n",
    "  def add(self, state, action, reward, n_state):\n",
    "    self.buffer.append([state, action, reward, n_state])\n",
    "    if len(self.buffer) > self.buffer_size:\n",
    "      self.buffer.pop(0)\n",
    "\n",
    "  def size(self):\n",
    "    return len(self.buffer)\n",
    "\n",
    "  def sample_batch(self, batch_size):\n",
    "    return random.sample(self.buffer, batch_size)"
   ]
  },
  {
   "cell_type": "code",
   "execution_count": 35,
   "metadata": {
    "id": "FR_iIrSLODGz",
    "tags": []
   },
   "outputs": [],
   "source": [
    "def experience_replay(replay_memory, batch_size, actor, critic, embeddings, ra_length, state_space_size, action_space_size, discount_factor):\n",
    "  '''\n",
    "  Experience replay\n",
    "  Best Q-value, loss of Critic network\n",
    "  '''\n",
    "\n",
    "  # Sample minibatch of N transitions (s, a, r, s′) from D\n",
    "  samples = replay_memory.sample_batch(batch_size)\n",
    "  states = np.array([s[0] for s in samples])\n",
    "  actions = np.array([s[1] for s in samples])\n",
    "  rewards = np.array([s[2] for s in samples])\n",
    "  n_states = np.array([s[3] for s in samples]).reshape(-1, state_space_size)\n",
    "\n",
    "  # Generate a′ by target Actor network\n",
    "  n_actions = actor.get_recommendation_list(ra_length, states, embeddings, target=True).reshape(-1, action_space_size)\n",
    "\n",
    "  # Calculate predicted Q′(s′, a′|θ^µ′) value\n",
    "  target_Q_value = critic.predict_target(n_states, n_actions, [ra_length] * batch_size)\n",
    "\n",
    "  # Set y = r + γQ′(s′, a′|θ^µ′)\n",
    "  expected_rewards = rewards + discount_factor * target_Q_value\n",
    "  \n",
    "  # Update Critic by minimizing (y − Q(s, a|θ^µ))²\n",
    "  critic_Q_value, critic_loss, _ = critic.train(states, actions, [ra_length] * batch_size, expected_rewards)\n",
    "  \n",
    "  # Update the Actor using the sampled policy gradient\n",
    "  action_gradients = critic.get_action_gradients(states, n_actions, [ra_length] * batch_size)\n",
    "  actor.train(states, [ra_length] * batch_size, action_gradients)\n",
    "\n",
    "  # Update the Critic target networks\n",
    "  critic.update_target_network()\n",
    "\n",
    "  # Update the Actor target network\n",
    "  actor.update_target_network()\n",
    "\n",
    "  return np.amax(critic_Q_value), critic_loss"
   ]
  },
  {
   "cell_type": "markdown",
   "metadata": {
    "id": "l1OyZWy6OEB_"
   },
   "source": [
    "## **8. Training**"
   ]
  },
  {
   "cell_type": "markdown",
   "metadata": {
    "id": "glTSEJktFpUe"
   },
   "source": [
    "###**Using the train data to build and train a model**\n",
    "1. Parameters are trained\n",
    "2. Updation of the actor and critic network\n",
    "3. Saving the trained model\n"
   ]
  },
  {
   "cell_type": "code",
   "execution_count": 36,
   "metadata": {
    "id": "mXLD3yFmOHwt",
    "tags": []
   },
   "outputs": [],
   "source": [
    "class Noise:\n",
    "  ''' Noise for Actor predictions '''\n",
    "  def __init__(self, action_space_size, mu=0, theta=0.5, sigma=0.2):\n",
    "    self.action_space_size = action_space_size\n",
    "    self.mu = mu\n",
    "    self.theta = theta\n",
    "    self.sigma = sigma\n",
    "    self.state = np.ones(self.action_space_size) * self.mu\n",
    "\n",
    "  def get(self):\n",
    "    self.state += self.theta * (self.mu - self.state) + self.sigma * np.random.rand(self.action_space_size)\n",
    "    return self.state\n",
    "    \n",
    "\n",
    "def train(sess, environment, actor, critic, embeddings, history_length, ra_length, buffer_size, batch_size, discount_factor, nb_episodes, filename_summary):\n",
    "  \n",
    "  # Set up summary operators\n",
    "  def build_summaries():\n",
    "    episode_reward = tf.Variable(0.)\n",
    "    tf.summary.scalar('reward', episode_reward)\n",
    "    episode_max_Q = tf.Variable(0.)\n",
    "    tf.summary.scalar('max_Q_value', episode_max_Q)\n",
    "    critic_loss = tf.Variable(0.)\n",
    "    tf.summary.scalar('critic_loss', critic_loss)\n",
    "\n",
    "    summary_vars = [episode_reward, episode_max_Q, critic_loss]\n",
    "    summary_ops = tf.summary.merge_all()\n",
    "    return summary_ops, summary_vars\n",
    "\n",
    "  summary_ops, summary_vars = build_summaries()\n",
    "  sess.run(tf.global_variables_initializer())\n",
    "  writer = tf.summary.FileWriter(filename_summary, sess.graph)\n",
    "\n",
    "  # Initialize target network f′ and Q′\n",
    "  actor.init_target_network()\n",
    "  critic.init_target_network()\n",
    "\n",
    "  # Initialize the capacity of replay memory D\n",
    "  replay_memory = ReplayMemory(buffer_size) \n",
    "  replay = False\n",
    "\n",
    "\n",
    "  start_time = time.time()\n",
    "  for i_session in range(nb_episodes): \n",
    "    session_reward = 0\n",
    "    session_Q_value = 0\n",
    "    session_critic_loss = 0\n",
    "    #Initialize state s_0 from previous sessions\n",
    "    states = environment.reset() \n",
    "    \n",
    "    # Update average parameters every 10 episodes\n",
    "    if (i_session + 1) % 10 == 0: \n",
    "      environment.groups = environment.get_groups()\n",
    "      \n",
    "    exploration_noise = Noise(history_length * embeddings.size())\n",
    "\n",
    "    for t in range(nb_rounds): \n",
    "      # Stage 1: Transition Generating Stage\n",
    "\n",
    "      # Select an action a_t = {a_t^1, ..., a_t^K} \n",
    "      actions = actor.get_recommendation_list(\n",
    "          ra_length,\n",
    "          states.reshape(1, -1), \n",
    "          embeddings).reshape(ra_length, embeddings.size())\n",
    "\n",
    "      # Execute action a_t and observe the reward list {r_t^1, ..., r_t^K} for each item in a_t\n",
    "      rewards, next_states = environment.step(actions)\n",
    "\n",
    "      # Store transition (s_t, a_t, r_t, s_t+1) in D\n",
    "      replay_memory.add(states.reshape(history_length * embeddings.size()),\n",
    "                        actions.reshape(ra_length * embeddings.size()),\n",
    "                        [rewards],\n",
    "                        next_states.reshape(history_length * embeddings.size()))\n",
    "\n",
    "      # Set s_t = s_t+1\n",
    "      states = next_states \n",
    "\n",
    "      session_reward += rewards\n",
    "      \n",
    "      # Stage 2: Parameter Updating Stage\n",
    "      if replay_memory.size() >= batch_size: # Experience replay\n",
    "        replay = True\n",
    "        replay_Q_value, critic_loss = experience_replay(replay_memory, batch_size,\n",
    "          actor, critic, embeddings, ra_length, history_length * embeddings.size(),\n",
    "          ra_length * embeddings.size(), discount_factor)\n",
    "        session_Q_value += replay_Q_value\n",
    "        session_critic_loss += critic_loss\n",
    "\n",
    "      summary_str = sess.run(summary_ops,\n",
    "                             feed_dict={summary_vars[0]: session_reward,\n",
    "                                        summary_vars[1]: session_Q_value,\n",
    "                                        summary_vars[2]: session_critic_loss})\n",
    "      \n",
    "      writer.add_summary(summary_str, i_session)\n",
    "\n",
    "    str_loss = str('Loss=%0.4f' % session_critic_loss)\n",
    "    print(('Episode %d/%d Reward=%d Time=%ds ' + (str_loss if replay else 'No replay')) % (i_session + 1, nb_episodes, session_reward, time.time() - start_time))\n",
    "    start_time = time.time()\n",
    "\n",
    "  writer.close()\n",
    "  tf.train.Saver().save(sess, '../Data/models.h5', write_meta_graph=False)"
   ]
  },
  {
   "cell_type": "code",
   "execution_count": 37,
   "metadata": {
    "colab": {
     "base_uri": "https://localhost:8080/"
    },
    "id": "9JmA3pQHOz5P",
    "outputId": "d2429bd1-d31d-4aef-b887-702a171ee9aa",
    "tags": []
   },
   "outputs": [
    {
     "name": "stderr",
     "output_type": "stream",
     "text": [
      "/home/sranasin/conda/envs/DeepRL/lib/python3.7/site-packages/ipykernel_launcher.py:6: DeprecationWarning: `np.int` is a deprecated alias for the builtin `int`. To silence this warning, use `int` by itself. Doing this will not modify any behavior and is safe. When replacing `np.int`, you may wish to use e.g. `np.int64` or `np.int32` to specify the precision. If you wish to review your current use, check the release note link for additional information.\n",
      "Deprecated in NumPy 1.20; for more details and guidance: https://numpy.org/devdocs/release/1.20.0-notes.html#deprecations\n",
      "  \n"
     ]
    }
   ],
   "source": [
    "# Hyperparameters\n",
    "history_length = 4 # N in article=====12\n",
    "ra_length = 4 # K in article\n",
    "discount_factor = 0.99 # Gamma in Bellman equation\n",
    "actor_lr = 0.0001\n",
    "critic_lr = 0.001\n",
    "tau = 0.001 # τ in Algorithm 3\n",
    "batch_size = 32 #========128\n",
    "nb_episodes = 5\n",
    "nb_rounds = 50\n",
    "filename_summary = 'summary.txt'\n",
    "alpha = 0.5 # α (alpha) in Equation (1)\n",
    "gamma = 0.9 # Γ (Gamma) in Equation (4)\n",
    "buffer_size = 10000 # Size of replay memory D in article ========= 1000000\n",
    "fixed_length = True # Fixed memory length\n",
    "\n",
    "dg = DataGenerator('ml-100k/u.data', 'ml-100k/u.item')\n",
    "dg.get_train_test_split(0.8, seed=42)\n",
    "\n",
    "dg.write_csv('../Data/train.csv', dg.train, nb_states=[history_length], nb_actions=[ra_length])\n",
    "dg.write_csv('../Data/test.csv', dg.test, nb_states=[history_length], nb_actions=[ra_length])\n",
    "\n",
    "data = file_reading('../Data/train.csv')\n"
   ]
  },
  {
   "cell_type": "code",
   "execution_count": 38,
   "metadata": {
    "colab": {
     "base_uri": "https://localhost:8080/",
     "height": 1000
    },
    "id": "6JzU_mMUO8XK",
    "outputId": "2df8dfdd-f446-471c-f3d4-6c9ebbe46f87",
    "tags": []
   },
   "outputs": [
    {
     "name": "stdout",
     "output_type": "stream",
     "text": [
      "1/50\n",
      "Train on 5000 samples, validate on 5000 samples\n",
      "Epoch 1/1\n",
      "5000/5000 [==============================] - 6s 1ms/step - loss: 6.9085 - acc: 0.0110 - val_loss: 6.5476 - val_acc: 0.0132\n",
      "2/50\n",
      "Train on 5000 samples, validate on 5000 samples\n",
      "Epoch 1/1\n",
      "5000/5000 [==============================] - 1s 282us/step - loss: 6.4257 - acc: 0.0154 - val_loss: 6.3262 - val_acc: 0.0176\n",
      "3/50\n",
      "Train on 5000 samples, validate on 5000 samples\n",
      "Epoch 1/1\n",
      "5000/5000 [==============================] - 1s 282us/step - loss: 6.2918 - acc: 0.0126 - val_loss: 6.2124 - val_acc: 0.0136\n",
      "4/50\n",
      "Train on 5000 samples, validate on 5000 samples\n",
      "Epoch 1/1\n",
      "5000/5000 [==============================] - 1s 285us/step - loss: 6.2150 - acc: 0.0144 - val_loss: 6.1373 - val_acc: 0.0184\n",
      "5/50\n",
      "Train on 5000 samples, validate on 5000 samples\n",
      "Epoch 1/1\n",
      "5000/5000 [==============================] - 1s 281us/step - loss: 6.1627 - acc: 0.0166 - val_loss: 6.1035 - val_acc: 0.0178\n",
      "6/50\n",
      "Train on 5000 samples, validate on 5000 samples\n",
      "Epoch 1/1\n",
      "5000/5000 [==============================] - 1s 283us/step - loss: 6.0838 - acc: 0.0186 - val_loss: 5.9948 - val_acc: 0.0236\n",
      "7/50\n",
      "Train on 5000 samples, validate on 5000 samples\n",
      "Epoch 1/1\n",
      "5000/5000 [==============================] - 1s 281us/step - loss: 6.0805 - acc: 0.0194 - val_loss: 5.9910 - val_acc: 0.0232\n",
      "8/50\n",
      "Train on 5000 samples, validate on 5000 samples\n",
      "Epoch 1/1\n",
      "5000/5000 [==============================] - 1s 286us/step - loss: 6.0380 - acc: 0.0232 - val_loss: 6.0329 - val_acc: 0.0166\n",
      "9/50\n",
      "Train on 5000 samples, validate on 5000 samples\n",
      "Epoch 1/1\n",
      "5000/5000 [==============================] - 1s 282us/step - loss: 5.9920 - acc: 0.0222 - val_loss: 5.9438 - val_acc: 0.0246\n",
      "10/50\n",
      "Train on 5000 samples, validate on 5000 samples\n",
      "Epoch 1/1\n",
      "5000/5000 [==============================] - 1s 282us/step - loss: 5.9326 - acc: 0.0280 - val_loss: 5.9100 - val_acc: 0.0268\n",
      "11/50\n",
      "Train on 5000 samples, validate on 5000 samples\n",
      "Epoch 1/1\n",
      "5000/5000 [==============================] - 1s 281us/step - loss: 5.9940 - acc: 0.0242 - val_loss: 5.8727 - val_acc: 0.0276\n",
      "12/50\n",
      "Train on 5000 samples, validate on 5000 samples\n",
      "Epoch 1/1\n",
      "5000/5000 [==============================] - 1s 282us/step - loss: 5.9122 - acc: 0.0298 - val_loss: 5.9470 - val_acc: 0.0302\n",
      "13/50\n",
      "Train on 5000 samples, validate on 5000 samples\n",
      "Epoch 1/1\n",
      "5000/5000 [==============================] - 1s 282us/step - loss: 5.9122 - acc: 0.0268 - val_loss: 5.8454 - val_acc: 0.0330\n",
      "14/50\n",
      "Train on 5000 samples, validate on 5000 samples\n",
      "Epoch 1/1\n",
      "5000/5000 [==============================] - 1s 282us/step - loss: 5.8762 - acc: 0.0302 - val_loss: 5.7914 - val_acc: 0.0346\n",
      "15/50\n",
      "Train on 5000 samples, validate on 5000 samples\n",
      "Epoch 1/1\n",
      "5000/5000 [==============================] - 1s 281us/step - loss: 5.9177 - acc: 0.0292 - val_loss: 5.7835 - val_acc: 0.0474\n",
      "16/50\n",
      "Train on 5000 samples, validate on 5000 samples\n",
      "Epoch 1/1\n",
      "5000/5000 [==============================] - 1s 283us/step - loss: 5.8570 - acc: 0.0408 - val_loss: 5.7246 - val_acc: 0.0448\n",
      "17/50\n",
      "Train on 5000 samples, validate on 5000 samples\n",
      "Epoch 1/1\n",
      "5000/5000 [==============================] - 1s 284us/step - loss: 5.8058 - acc: 0.0386 - val_loss: 5.7253 - val_acc: 0.0446\n",
      "18/50\n",
      "Train on 5000 samples, validate on 5000 samples\n",
      "Epoch 1/1\n",
      "5000/5000 [==============================] - 1s 282us/step - loss: 5.8040 - acc: 0.0404 - val_loss: 5.6937 - val_acc: 0.0542\n",
      "19/50\n",
      "Train on 5000 samples, validate on 5000 samples\n",
      "Epoch 1/1\n",
      "5000/5000 [==============================] - 1s 281us/step - loss: 5.7775 - acc: 0.0450 - val_loss: 5.6504 - val_acc: 0.0596\n",
      "20/50\n",
      "Train on 5000 samples, validate on 5000 samples\n",
      "Epoch 1/1\n",
      "5000/5000 [==============================] - 1s 282us/step - loss: 5.7079 - acc: 0.0486 - val_loss: 5.6796 - val_acc: 0.0572\n",
      "21/50\n",
      "Train on 5000 samples, validate on 5000 samples\n",
      "Epoch 1/1\n",
      "5000/5000 [==============================] - 1s 282us/step - loss: 5.7341 - acc: 0.0494 - val_loss: 5.6498 - val_acc: 0.0614\n",
      "22/50\n",
      "Train on 5000 samples, validate on 5000 samples\n",
      "Epoch 1/1\n",
      "5000/5000 [==============================] - 1s 282us/step - loss: 5.6642 - acc: 0.0564 - val_loss: 5.5797 - val_acc: 0.0708\n",
      "23/50\n",
      "Train on 5000 samples, validate on 5000 samples\n",
      "Epoch 1/1\n",
      "5000/5000 [==============================] - 1s 281us/step - loss: 5.6628 - acc: 0.0572 - val_loss: 5.5895 - val_acc: 0.0722\n",
      "24/50\n",
      "Train on 5000 samples, validate on 5000 samples\n",
      "Epoch 1/1\n",
      "5000/5000 [==============================] - 1s 282us/step - loss: 5.6199 - acc: 0.0574 - val_loss: 5.5498 - val_acc: 0.0758\n",
      "25/50\n",
      "Train on 5000 samples, validate on 5000 samples\n",
      "Epoch 1/1\n",
      "5000/5000 [==============================] - 1s 286us/step - loss: 5.6155 - acc: 0.0584 - val_loss: 5.5184 - val_acc: 0.0766\n",
      "26/50\n",
      "Train on 5000 samples, validate on 5000 samples\n",
      "Epoch 1/1\n",
      "5000/5000 [==============================] - 1s 284us/step - loss: 5.6005 - acc: 0.0626 - val_loss: 5.4859 - val_acc: 0.0858\n",
      "27/50\n",
      "Train on 5000 samples, validate on 5000 samples\n",
      "Epoch 1/1\n",
      "5000/5000 [==============================] - 1s 281us/step - loss: 5.5306 - acc: 0.0738 - val_loss: 5.4642 - val_acc: 0.0860\n",
      "28/50\n",
      "Train on 5000 samples, validate on 5000 samples\n",
      "Epoch 1/1\n",
      "5000/5000 [==============================] - 1s 282us/step - loss: 5.5733 - acc: 0.0646 - val_loss: 5.4357 - val_acc: 0.0964\n",
      "29/50\n",
      "Train on 5000 samples, validate on 5000 samples\n",
      "Epoch 1/1\n",
      "5000/5000 [==============================] - 1s 282us/step - loss: 5.5079 - acc: 0.0762 - val_loss: 5.4464 - val_acc: 0.0848\n",
      "30/50\n",
      "Train on 5000 samples, validate on 5000 samples\n",
      "Epoch 1/1\n",
      "5000/5000 [==============================] - 1s 285us/step - loss: 5.4933 - acc: 0.0812 - val_loss: 5.3697 - val_acc: 0.0942\n",
      "31/50\n",
      "Train on 5000 samples, validate on 5000 samples\n",
      "Epoch 1/1\n",
      "5000/5000 [==============================] - 1s 281us/step - loss: 5.4786 - acc: 0.0792 - val_loss: 5.3286 - val_acc: 0.1010\n",
      "32/50\n",
      "Train on 5000 samples, validate on 5000 samples\n",
      "Epoch 1/1\n",
      "5000/5000 [==============================] - 1s 282us/step - loss: 5.4484 - acc: 0.0850 - val_loss: 5.3219 - val_acc: 0.1074\n",
      "33/50\n",
      "Train on 5000 samples, validate on 5000 samples\n",
      "Epoch 1/1\n",
      "5000/5000 [==============================] - 1s 281us/step - loss: 5.3742 - acc: 0.0942 - val_loss: 5.3100 - val_acc: 0.1128\n",
      "34/50\n",
      "Train on 5000 samples, validate on 5000 samples\n",
      "Epoch 1/1\n",
      "5000/5000 [==============================] - 1s 283us/step - loss: 5.3724 - acc: 0.0950 - val_loss: 5.2823 - val_acc: 0.1100\n",
      "35/50\n",
      "Train on 5000 samples, validate on 5000 samples\n",
      "Epoch 1/1\n",
      "5000/5000 [==============================] - 1s 281us/step - loss: 5.3440 - acc: 0.0972 - val_loss: 5.2621 - val_acc: 0.1124\n",
      "36/50\n",
      "Train on 5000 samples, validate on 5000 samples\n",
      "Epoch 1/1\n",
      "5000/5000 [==============================] - 1s 282us/step - loss: 5.2802 - acc: 0.1068 - val_loss: 5.1956 - val_acc: 0.1250\n",
      "37/50\n",
      "Train on 5000 samples, validate on 5000 samples\n",
      "Epoch 1/1\n",
      "5000/5000 [==============================] - 1s 281us/step - loss: 5.2575 - acc: 0.1050 - val_loss: 5.1233 - val_acc: 0.1356\n",
      "38/50\n",
      "Train on 5000 samples, validate on 5000 samples\n",
      "Epoch 1/1\n",
      "5000/5000 [==============================] - 1s 286us/step - loss: 5.2545 - acc: 0.1120 - val_loss: 5.1318 - val_acc: 0.1402\n",
      "39/50\n",
      "Train on 5000 samples, validate on 5000 samples\n",
      "Epoch 1/1\n",
      "5000/5000 [==============================] - 1s 285us/step - loss: 5.2162 - acc: 0.1184 - val_loss: 5.0919 - val_acc: 0.1382\n",
      "40/50\n",
      "Train on 5000 samples, validate on 5000 samples\n",
      "Epoch 1/1\n",
      "5000/5000 [==============================] - 1s 282us/step - loss: 5.2021 - acc: 0.1212 - val_loss: 5.0675 - val_acc: 0.1522\n",
      "41/50\n",
      "Train on 5000 samples, validate on 5000 samples\n",
      "Epoch 1/1\n",
      "5000/5000 [==============================] - 1s 282us/step - loss: 5.1357 - acc: 0.1214 - val_loss: 4.9636 - val_acc: 0.1514\n",
      "42/50\n",
      "Train on 5000 samples, validate on 5000 samples\n",
      "Epoch 1/1\n",
      "5000/5000 [==============================] - 1s 284us/step - loss: 5.1341 - acc: 0.1222 - val_loss: 4.9636 - val_acc: 0.1688\n",
      "43/50\n",
      "Train on 5000 samples, validate on 5000 samples\n",
      "Epoch 1/1\n",
      "5000/5000 [==============================] - 1s 286us/step - loss: 5.0912 - acc: 0.1398 - val_loss: 4.9391 - val_acc: 0.1688\n",
      "44/50\n",
      "Train on 5000 samples, validate on 5000 samples\n",
      "Epoch 1/1\n",
      "5000/5000 [==============================] - 1s 282us/step - loss: 5.0362 - acc: 0.1420 - val_loss: 4.8249 - val_acc: 0.1782\n",
      "45/50\n",
      "Train on 5000 samples, validate on 5000 samples\n",
      "Epoch 1/1\n",
      "5000/5000 [==============================] - 1s 282us/step - loss: 5.0158 - acc: 0.1462 - val_loss: 4.8552 - val_acc: 0.1824\n",
      "46/50\n",
      "Train on 5000 samples, validate on 5000 samples\n",
      "Epoch 1/1\n",
      "5000/5000 [==============================] - 1s 282us/step - loss: 4.9187 - acc: 0.1558 - val_loss: 4.7860 - val_acc: 0.1898\n",
      "47/50\n",
      "Train on 5000 samples, validate on 5000 samples\n",
      "Epoch 1/1\n",
      "5000/5000 [==============================] - 1s 282us/step - loss: 4.9607 - acc: 0.1550 - val_loss: 4.8112 - val_acc: 0.1860\n",
      "48/50\n",
      "Train on 5000 samples, validate on 5000 samples\n",
      "Epoch 1/1\n",
      "5000/5000 [==============================] - 1s 282us/step - loss: 4.9157 - acc: 0.1564 - val_loss: 4.7448 - val_acc: 0.2024\n",
      "49/50\n",
      "Train on 5000 samples, validate on 5000 samples\n",
      "Epoch 1/1\n",
      "5000/5000 [==============================] - 1s 282us/step - loss: 4.8969 - acc: 0.1654 - val_loss: 4.6944 - val_acc: 0.2174\n",
      "50/50\n",
      "Train on 5000 samples, validate on 5000 samples\n",
      "Epoch 1/1\n",
      "5000/5000 [==============================] - 1s 282us/step - loss: 4.8027 - acc: 0.1782 - val_loss: 4.6552 - val_acc: 0.2054\n",
      "100000/100000 [==============================] - 7s 71us/step\n",
      "Train set: Loss=4.6774 ; Accuracy=21.0%\n",
      "100000/100000 [==============================] - 30s 305us/step\n",
      "Test set: Loss=6.8550 ; Accuracy=4.6%\n"
     ]
    }
   ],
   "source": [
    "if True: # Generate embeddings?\n",
    "  eg = EmbeddingsGenerator(dg.user_train, pd.read_csv('ml-100k/u.data', sep='\\t', names=['userId', 'itemId', 'rating', 'timestamp']))\n",
    "  eg.train(nb_epochs=50)\n",
    "  train_loss, train_accuracy = eg.test(dg.user_train)\n",
    "  print('Train set: Loss=%.4f ; Accuracy=%.1f%%' % (train_loss, train_accuracy * 100))\n",
    "  test_loss, test_accuracy = eg.test(dg.user_test)\n",
    "  print('Test set: Loss=%.4f ; Accuracy=%.1f%%' % (test_loss, test_accuracy * 100))\n",
    "  eg.save_embeddings('../Data/embeddings.csv')\n"
   ]
  },
  {
   "cell_type": "code",
   "execution_count": 39,
   "metadata": {
    "colab": {
     "base_uri": "https://localhost:8080/"
    },
    "id": "6F4DQ_F_PGTn",
    "outputId": "3c97867f-a8c0-4154-d334-66e3c3779448",
    "tags": []
   },
   "outputs": [
    {
     "name": "stdout",
     "output_type": "stream",
     "text": [
      "WARNING:tensorflow:From /tmp/ipykernel_905007/2004641181.py:10: The name tf.reset_default_graph is deprecated. Please use tf.compat.v1.reset_default_graph instead.\n",
      "\n",
      "WARNING:tensorflow:From /tmp/ipykernel_905007/2886346904.py:16: The name tf.variable_scope is deprecated. Please use tf.compat.v1.variable_scope instead.\n",
      "\n",
      "WARNING:tensorflow:From /tmp/ipykernel_905007/2886346904.py:68: GRUCell.__init__ (from tensorflow.python.ops.rnn_cell_impl) is deprecated and will be removed in a future version.\n",
      "Instructions for updating:\n",
      "This class is equivalent as tf.keras.layers.GRUCell, and will be replaced by that in Tensorflow 2.0.\n",
      "WARNING:tensorflow:From /tmp/ipykernel_905007/2886346904.py:69: dynamic_rnn (from tensorflow.python.ops.rnn) is deprecated and will be removed in a future version.\n",
      "Instructions for updating:\n",
      "Please use `keras.layers.RNN(cell)`, which is equivalent to this API\n",
      "WARNING:tensorflow:From /home/sranasin/conda/envs/DeepRL/lib/python3.7/site-packages/tensorflow_core/python/ops/rnn_cell_impl.py:559: Layer.add_variable (from tensorflow.python.keras.engine.base_layer) is deprecated and will be removed in a future version.\n",
      "Instructions for updating:\n",
      "Please use `layer.add_weight` method instead.\n",
      "WARNING:tensorflow:From /home/sranasin/conda/envs/DeepRL/lib/python3.7/site-packages/tensorflow_core/python/ops/resource_variable_ops.py:1630: calling BaseResourceVariable.__init__ (from tensorflow.python.ops.resource_variable_ops) with constraint is deprecated and will be removed in a future version.\n",
      "Instructions for updating:\n",
      "If using Keras pass *_constraint arguments to layers.\n",
      "WARNING:tensorflow:From /tmp/ipykernel_905007/2886346904.py:19: The name tf.trainable_variables is deprecated. Please use tf.compat.v1.trainable_variables instead.\n",
      "\n",
      "WARNING:tensorflow:From /tmp/ipykernel_905007/2886346904.py:40: div (from tensorflow.python.ops.math_ops) is deprecated and will be removed in a future version.\n",
      "Instructions for updating:\n",
      "Deprecated in favor of operator or tf.math.divide.\n",
      "WARNING:tensorflow:From /tmp/ipykernel_905007/2886346904.py:43: The name tf.train.AdamOptimizer is deprecated. Please use tf.compat.v1.train.AdamOptimizer instead.\n",
      "\n",
      "WARNING:tensorflow:From /tmp/ipykernel_905007/1001677635.py:68: The name tf.layers.Dense is deprecated. Please use tf.compat.v1.layers.Dense instead.\n",
      "\n",
      "WARNING:tensorflow:From /tmp/ipykernel_905007/1001677635.py:17: The name tf.get_collection is deprecated. Please use tf.compat.v1.get_collection instead.\n",
      "\n",
      "WARNING:tensorflow:From /tmp/ipykernel_905007/1001677635.py:17: The name tf.GraphKeys is deprecated. Please use tf.compat.v1.GraphKeys instead.\n",
      "\n",
      "WARNING:tensorflow:From /tmp/ipykernel_905007/1001677635.py:35: The name tf.squared_difference is deprecated. Please use tf.math.squared_difference instead.\n",
      "\n",
      "WARNING:tensorflow:From /tmp/ipykernel_905007/3165072741.py:20: The name tf.summary.scalar is deprecated. Please use tf.compat.v1.summary.scalar instead.\n",
      "\n",
      "WARNING:tensorflow:From /tmp/ipykernel_905007/3165072741.py:27: The name tf.summary.merge_all is deprecated. Please use tf.compat.v1.summary.merge_all instead.\n",
      "\n",
      "WARNING:tensorflow:From /tmp/ipykernel_905007/3165072741.py:31: The name tf.global_variables_initializer is deprecated. Please use tf.compat.v1.global_variables_initializer instead.\n",
      "\n",
      "WARNING:tensorflow:From /tmp/ipykernel_905007/3165072741.py:32: The name tf.summary.FileWriter is deprecated. Please use tf.compat.v1.summary.FileWriter instead.\n",
      "\n",
      "Episode 1/5 Reward=542 Time=19s Loss=1086.9011\n",
      "Episode 2/5 Reward=542 Time=34s Loss=66.1671\n",
      "Episode 3/5 Reward=542 Time=33s Loss=14.7715\n",
      "Episode 4/5 Reward=542 Time=33s Loss=10.4242\n",
      "Episode 5/5 Reward=542 Time=33s Loss=9.4510\n",
      "WARNING:tensorflow:From /tmp/ipykernel_905007/3165072741.py:101: The name tf.train.Saver is deprecated. Please use tf.compat.v1.train.Saver instead.\n",
      "\n"
     ]
    }
   ],
   "source": [
    "embeddings = Embeddings(embeddings_reading('../Data/embeddings.csv'))\n",
    "\n",
    "state_space_size = embeddings.size() * history_length\n",
    "action_space_size = embeddings.size() * ra_length\n",
    "\n",
    "\n",
    "environment = Environment(data, embeddings, alpha, gamma, fixed_length)\n",
    "\n",
    "# For multiple consecutive executions\n",
    "tf.reset_default_graph() \n",
    "\n",
    "sess = tf.Session()\n",
    "# Initialize actor network f_θ^π and critic network Q(s, a|θ^µ) with random weights\n",
    "actor = Actor(sess, state_space_size, action_space_size, batch_size, ra_length, history_length, embeddings.size(), tau, actor_lr)\n",
    "critic = Critic(sess, state_space_size, action_space_size, history_length, embeddings.size(), tau, critic_lr)\n",
    "\n",
    "train(sess, environment, actor, critic, embeddings, history_length, ra_length, buffer_size, batch_size, discount_factor, nb_episodes, filename_summary)\n"
   ]
  },
  {
   "cell_type": "markdown",
   "metadata": {
    "id": "Xji6iig5OUrM"
   },
   "source": [
    "## **9. Testing**"
   ]
  },
  {
   "cell_type": "markdown",
   "metadata": {
    "id": "SsqWwgaDGNkc"
   },
   "source": [
    "###**Test on the Test dataset**\n",
    "\n",
    "1. Using the test dataset and movie embeddings saved previously\n",
    "2. Using the well trained parameters of the final model obtained"
   ]
  },
  {
   "cell_type": "code",
   "execution_count": 40,
   "metadata": {
    "id": "4n8Y9ggBQXIL",
    "tags": []
   },
   "outputs": [],
   "source": [
    "dict_embeddings = {}\n",
    "for i, item in enumerate(embeddings.get_embedding_vector()):\n",
    "  str_item = str(item)\n",
    "  assert(str_item not in dict_embeddings)\n",
    "  dict_embeddings[str_item] = i\n",
    "\n",
    "def state_to_items(state, actor, ra_length, embeddings, dict_embeddings, target=False):\n",
    "  return [dict_embeddings[str(action)]\n",
    "          for action in actor.get_recommendation_list(ra_length, np.array(state).reshape(1, -1), embeddings, target).reshape(ra_length, embeddings.size())]\n",
    "\n",
    "def test_actor(actor, test_df, embeddings, dict_embeddings, ra_length, history_length, target=False, nb_rounds=1):\n",
    "  ratings = []\n",
    "  unknown = 0\n",
    "  random_seen = []\n",
    "  for _ in range(nb_rounds):\n",
    "    for i in range(len(test_df)):\n",
    "      history_sample = list(test_df[i].sample(history_length)['itemId'])\n",
    "      recommendation = state_to_items(embeddings.embed(history_sample), actor, ra_length, embeddings, dict_embeddings, target)\n",
    "      for item in recommendation:\n",
    "        l = list(test_df[i].loc[test_df[i]['itemId'] == item]['rating'])\n",
    "        assert(len(l) < 2)\n",
    "        if len(l) == 0:\n",
    "          unknown += 1\n",
    "        else:\n",
    "          ratings.append(l[0])\n",
    "      for item in history_sample:\n",
    "        random_seen.append(list(test_df[i].loc[test_df[i]['itemId'] == item]['rating'])[0])\n",
    "\n",
    "  return ratings, unknown, random_seen\n",
    "\n"
   ]
  },
  {
   "cell_type": "markdown",
   "metadata": {
    "id": "IZqzMyXaQfMw"
   },
   "source": [
    "## **10. Performance Evaluation**"
   ]
  },
  {
   "cell_type": "markdown",
   "metadata": {
    "id": "jke7nJwMQ2wY"
   },
   "source": [
    "###**Train Set**"
   ]
  },
  {
   "cell_type": "markdown",
   "metadata": {
    "id": "-Wey91-YREfu"
   },
   "source": [
    "Target = False"
   ]
  },
  {
   "cell_type": "code",
   "execution_count": 41,
   "metadata": {
    "colab": {
     "base_uri": "https://localhost:8080/"
    },
    "id": "QV21TbBwQksO",
    "outputId": "7f62d9f6-2393-40ac-bab1-8c3bb73ecbb2",
    "tags": []
   },
   "outputs": [
    {
     "name": "stdout",
     "output_type": "stream",
     "text": [
      "95.0% unknown\n"
     ]
    }
   ],
   "source": [
    "ratings, unknown, random_seen = test_actor(actor, dg.train, embeddings, dict_embeddings, ra_length, history_length, target=False, nb_rounds=2)\n",
    "print('%0.1f%% unknown' % (100 * unknown / (len(ratings) + unknown)))"
   ]
  },
  {
   "cell_type": "markdown",
   "metadata": {
    "id": "q3W8YBo2Id4N"
   },
   "source": [
    "Comparison between the actual predictions made by the model and the randomly generated predictions"
   ]
  },
  {
   "cell_type": "code",
   "execution_count": 42,
   "metadata": {
    "colab": {
     "base_uri": "https://localhost:8080/",
     "height": 281
    },
    "id": "nQfvoaztQzvg",
    "outputId": "ea42750f-eb03-438f-bf40-3887b5ead9b4",
    "tags": []
   },
   "outputs": [
    {
     "data": {
      "image/png": "[encoded data removed]",
      "text/plain": [
       "<Figure size 640x480 with 2 Axes>"
      ]
     },
     "metadata": {},
     "output_type": "display_data"
    }
   ],
   "source": [
    "plt.subplot(1, 2, 1)\n",
    "plt.hist(ratings)\n",
    "plt.title('Predictions ; Mean = %.4f' % (np.mean(ratings)))\n",
    "plt.subplot(1, 2, 2)\n",
    "plt.hist(random_seen)\n",
    "plt.title('Random ; Mean = %.4f' % (np.mean(random_seen)))\n",
    "plt.show()"
   ]
  },
  {
   "cell_type": "markdown",
   "metadata": {
    "id": "XgtPZiWNQ5Wk"
   },
   "source": [
    "Target = True"
   ]
  },
  {
   "cell_type": "code",
   "execution_count": 43,
   "metadata": {
    "colab": {
     "base_uri": "https://localhost:8080/"
    },
    "id": "49JTyke9RIjO",
    "outputId": "9d294edd-47ee-49a2-c882-4978ac181ddb",
    "tags": []
   },
   "outputs": [
    {
     "name": "stdout",
     "output_type": "stream",
     "text": [
      "89.7% unknown\n"
     ]
    }
   ],
   "source": [
    "ratings, unknown, random_seen = test_actor(actor, dg.train, embeddings, dict_embeddings, ra_length, history_length, target=True, nb_rounds=2)\n",
    "print('%0.1f%% unknown' % (100 * unknown / (len(ratings) + unknown)))"
   ]
  },
  {
   "cell_type": "code",
   "execution_count": 44,
   "metadata": {
    "colab": {
     "base_uri": "https://localhost:8080/",
     "height": 281
    },
    "id": "eUO7hCL-RK2p",
    "outputId": "8270fe39-bd8a-433a-d7b8-4ca916381115",
    "tags": []
   },
   "outputs": [
    {
     "data": {
      "image/png": "[encoded data removed]",
      "text/plain": [
       "<Figure size 640x480 with 2 Axes>"
      ]
     },
     "metadata": {},
     "output_type": "display_data"
    }
   ],
   "source": [
    "plt.subplot(1, 2, 1)\n",
    "plt.hist(ratings)\n",
    "plt.title('Predictions ; Mean = %.4f' % (np.mean(ratings)))\n",
    "plt.subplot(1, 2, 2)\n",
    "plt.hist(random_seen)\n",
    "plt.title('Random ; Mean = %.4f' % (np.mean(random_seen)))\n",
    "plt.show()"
   ]
  },
  {
   "cell_type": "markdown",
   "metadata": {
    "id": "iCr-wsFaRNEv"
   },
   "source": [
    "###**Test Set**"
   ]
  },
  {
   "cell_type": "markdown",
   "metadata": {
    "id": "0MmfwzOPRX7h"
   },
   "source": [
    "Target = False"
   ]
  },
  {
   "cell_type": "code",
   "execution_count": 45,
   "metadata": {
    "colab": {
     "base_uri": "https://localhost:8080/"
    },
    "id": "bq5BYaz_RVu-",
    "outputId": "73ec88f0-3197-4c07-9f2b-cfe88985955c",
    "tags": []
   },
   "outputs": [
    {
     "name": "stdout",
     "output_type": "stream",
     "text": [
      "95.4% unknown\n"
     ]
    }
   ],
   "source": [
    "ratings, unknown, random_seen = test_actor(actor, dg.test, embeddings, dict_embeddings, ra_length, history_length, target=False, nb_rounds=1)\n",
    "print('%0.1f%% unknown' % (100 * unknown / (len(ratings) + unknown)))"
   ]
  },
  {
   "cell_type": "markdown",
   "metadata": {
    "id": "9hEJ50TJInGV"
   },
   "source": [
    "Comparison between the actual predictions made by the model and the randomly generated predictions"
   ]
  },
  {
   "cell_type": "code",
   "execution_count": 46,
   "metadata": {
    "colab": {
     "base_uri": "https://localhost:8080/",
     "height": 281
    },
    "id": "_7TKGTFEReZ_",
    "outputId": "733b3928-3d18-4b8d-f15f-9a4b92e611dc",
    "tags": []
   },
   "outputs": [
    {
     "data": {
      "image/png": "[encoded data removed]",
      "text/plain": [
       "<Figure size 640x480 with 2 Axes>"
      ]
     },
     "metadata": {},
     "output_type": "display_data"
    }
   ],
   "source": [
    "plt.subplot(1, 2, 1)\n",
    "plt.hist(ratings)\n",
    "plt.title('Predictions ; Mean = %.4f' % (np.mean(ratings)))\n",
    "plt.subplot(1, 2, 2)\n",
    "plt.hist(random_seen)\n",
    "plt.title('Random ; Mean = %.4f' % (np.mean(random_seen)))\n",
    "plt.show()"
   ]
  },
  {
   "cell_type": "markdown",
   "metadata": {
    "id": "VLebjkR0RhgS"
   },
   "source": [
    "Target = True"
   ]
  },
  {
   "cell_type": "code",
   "execution_count": 47,
   "metadata": {
    "colab": {
     "base_uri": "https://localhost:8080/"
    },
    "id": "PAzmOI0GRin-",
    "outputId": "d41d8cae-ad1e-4116-8fd1-8540045d8e8f",
    "tags": []
   },
   "outputs": [
    {
     "name": "stdout",
     "output_type": "stream",
     "text": [
      "90.7% unknown\n"
     ]
    }
   ],
   "source": [
    "ratings, unknown, random_seen = test_actor(actor, dg.test, embeddings, dict_embeddings, ra_length, history_length, target=True, nb_rounds=2)\n",
    "print('%0.1f%% unknown' % (100 * unknown / (len(ratings) + unknown)))"
   ]
  },
  {
   "cell_type": "code",
   "execution_count": 48,
   "metadata": {
    "colab": {
     "base_uri": "https://localhost:8080/",
     "height": 281
    },
    "id": "_whyIwm5RlCq",
    "outputId": "4bf28f2d-8305-482e-a0b2-f331a76eb1eb",
    "tags": []
   },
   "outputs": [
    {
     "data": {
      "image/png": "[encoded data removed]",
      "text/plain": [
       "<Figure size 640x480 with 2 Axes>"
      ]
     },
     "metadata": {},
     "output_type": "display_data"
    }
   ],
   "source": [
    "plt.subplot(1, 2, 1)\n",
    "plt.hist(ratings)\n",
    "plt.title('Predictions ; Mean = %.4f' % (np.mean(ratings)))\n",
    "plt.subplot(1, 2, 2)\n",
    "plt.hist(random_seen)\n",
    "plt.title('Random ; Mean = %.4f' % (np.mean(random_seen)))\n",
    "plt.show()\n"
   ]
  },
  {
   "cell_type": "markdown",
   "metadata": {
    "id": "0OAYZHI1H1X7"
   },
   "source": [
    "_______________________________________________________"
   ]
  },
  {
   "cell_type": "code",
   "execution_count": null,
   "metadata": {
    "id": "u4lzk2hfJGZ0"
   },
   "outputs": [],
   "source": []
  }
 ],
 "metadata": {
  "colab": {
   "collapsed_sections": [],
   "name": "Final_edited_version.ipynb",
   "provenance": []
  },
  "kernelspec": {
   "display_name": "Python 3 (ipykernel)",
   "language": "python",
   "name": "python3"
  },
  "language_info": {
   "codemirror_mode": {
    "name": "ipython",
    "version": 3
   },
   "file_extension": ".py",
   "mimetype": "text/x-python",
   "name": "python",
   "nbconvert_exporter": "python",
   "pygments_lexer": "ipython3",
   "version": "3.7.12"
  }
 },
 "nbformat": 4,
 "nbformat_minor": 4
}
